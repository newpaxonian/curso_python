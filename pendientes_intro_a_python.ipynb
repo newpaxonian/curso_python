{
 "cells": [
  {
   "cell_type": "markdown",
   "metadata": {},
   "source": [
    "# EJECICIOS ADICIONALES\n",
    "\n",
    " - WHILE LOOPS\n",
    " - FOR LOOPS"
   ]
  },
  {
   "cell_type": "code",
   "execution_count": 2,
   "metadata": {},
   "outputs": [],
   "source": [
    "# WHILE LOOPS EXERCISE\n",
    "\n",
    "# Adivina el número correcto en 3 intentos. Si no lo haces bien después de 3 intentos, pierdes el juego.\n",
    "# Dar al usuario un cuadro de input: 1. Para capturar intentos, print(y cuadros de input) 1. Si el usuario gana 2. Si el usuario pierde\n",
    "# Consejo: (recuerde que no verá instrucciones de impresión durante la ejecución, por lo que si desea ver impresiones durante todo el loop, print el input\n",
    "\n",
    "#Modificación 1: número 1-100, dígale al usuario si la suposición es demasiado alta/baja, y permítales tener de 5 a 10 suposiciones.\n",
    "# Consejo: (recuerde que no verá prints durante la ejecución, por lo que si desea ver prints durante todo el loop, print el input (esto es específico para esta plataforma) "
   ]
  },
  {
   "cell_type": "code",
   "execution_count": null,
   "metadata": {},
   "outputs": [],
   "source": [
    "# SOLUCION\n",
    "\n",
    "guess = 0\n",
    "guess_limit=5\n",
    "guess_number = 0\n",
    "guess = int(input(f'Guess a number 1-20: '))\n",
    "guess_number +=1\n",
    "while guess_number < guess_limit:\n",
    "    \n",
    "    if guess != num:\n",
    "        guess_number +=1\n",
    "        if guess > num:\n",
    "            guess = int(input(f'{guess} Too high - Guess again 1-100: '))\n",
    "        else:\n",
    "            guess = int(input(f'{guess} too low - Guess again 1-100: '))\n",
    "    if guess == num:\n",
    "        print(f'You Win! You Guessed it: {guess}')\n",
    "        break\n",
    "    \n",
    "if guess != num:\n",
    "    print(f'Sorry you lose! It was {num}')"
   ]
  },
  {
   "cell_type": "code",
   "execution_count": null,
   "metadata": {},
   "outputs": [],
   "source": [
    "# FOR LOOPS EXERCISE\n",
    "\n",
    "# Vas a tener una fiesta y quieres invitar a tus amigos.\n",
    "# Quieres imprimir las invitaciones para cada amigo usando FOR LOOPS \n",
    "# Para Los nombres están en dos listas, 'names' y 'names 1'\n",
    "# También debe agregar dos nombres adicionales a la lista usando input(), cuando ejecuta el código printout una invitación para cada amigo por línea\n",
    "# Los nombres deben escribirse correctamente en mayúsculas\n",
    "# Ejemplo de impresión\n",
    "\n",
    "# ¡John Cleese! Estás invitado a la fiesta del sábado.\n",
    "# ¡Eric inactivo! Estás invitado a la fiesta del sábado.\n",
    "\n",
    "# Sugerencia: es posible que necesite dos bucles (for) para resolver este ejercicio\n",
    "\n",
    "names = ['john ClEEse','Eric IDLE','michael']\n",
    "names1 = ['graHam chapman', 'TERRY', 'terry jones']\n",
    "msg = 'Estás invitado a la fiesta del Sábado.'"
   ]
  },
  {
   "cell_type": "code",
   "execution_count": null,
   "metadata": {},
   "outputs": [],
   "source": [
    "# SOLUCION\n",
    "\n",
    "#names.extend(names1)\n",
    "names += names1\n",
    "for index in range(2):\n",
    "    names.append(input('Introduce un nuevo nombre: '))\n",
    "\n",
    "for name in names:\n",
    "    #msg1 = f'{name.title()}! {msg}'\n",
    "    msg1 = name.title() + '! ' + msg\n",
    "    print(msg1)"
   ]
  },
  {
   "cell_type": "markdown",
   "metadata": {},
   "source": [
    "# TEMAS PENDIENTES\n",
    "\n",
    "- Módulos\n",
    "- ZIP\n",
    "- UNZIP\n",
    "- Funciones Lambda (AKA funciones anónimas)\n",
    "- LIST Comprehensions\n",
    "- DICT Comprehension\n",
    "- Randomness\n",
    "- Performance\n"
   ]
  },
  {
   "cell_type": "markdown",
   "metadata": {},
   "source": [
    "# Módulos\n"
   ]
  },
  {
   "cell_type": "code",
   "execution_count": null,
   "metadata": {},
   "outputs": [],
   "source": [
    "\n",
    "import pandas\n",
    "\n",
    "print(dir(pandas))\n",
    "print(help(pandas))\n",
    "\n",
    "import numpy as np # alias\n",
    "\n",
    "print(dir(np))\n",
    "\n",
    "# https://docs.python.org/3/library/datetime.html\n",
    "from datetime import date\n",
    "\n",
    "date.fromisoformat('2022-03-17')\n",
    "\n",
    "d = date(2002, 12, 31)\n",
    "d.replace(day=26)\n",
    "print(d)\n",
    "print(d.isoformat())\n",
    "\n",
    "from datetime import datetime as dt\n",
    "\n",
    "print(dt.today().isoformat())\n",
    "\n",
    "# Para crear un módulo se debe crear un folder y luego colocar un archivo __init__.py dentro\n"
   ]
  },
  {
   "cell_type": "markdown",
   "metadata": {},
   "source": [
    "# ZIP\n"
   ]
  },
  {
   "cell_type": "code",
   "execution_count": null,
   "metadata": {},
   "outputs": [],
   "source": [
    "\n",
    "nums = [1,2,3,4] \n",
    "# nums = '1234' \n",
    "letters = ['a','b','c','d']\n",
    "names =['John','Eric','Michael','Graham','Joe']\n",
    "\n",
    "combo = list(zip(nums,letters))\n",
    "print(combo)\n",
    "\n",
    "combo = dict(zip(letters,nums))\n",
    "print(combo)\n",
    "\n",
    "combo = list(zip(nums,letters,names))\n",
    "print(combo)\n"
   ]
  },
  {
   "cell_type": "markdown",
   "metadata": {},
   "source": [
    "# UNZIP\n"
   ]
  },
  {
   "cell_type": "code",
   "execution_count": null,
   "metadata": {},
   "outputs": [],
   "source": [
    "\n",
    "num,let,nam = zip(*combo)\n",
    "print(num,let,nam) # cuidado, ahora son tuplas\n",
    "\n",
    "# Diccionarios\n",
    "en = 'this parrot is deceased'\n",
    "sw = 'denna papegojan är avliden'\n",
    "\n",
    "keys = en.split()\n",
    "values = sw.split()\n",
    "print(keys,values)\n",
    "\n",
    "en_sw_dict = dict(zip(keys,values))\n",
    "print(en_sw_dict)\n",
    "\n",
    "# Usando comprehensions\n",
    "\n",
    "new_dict = {key:value for key,value in zip(keys,values)}\n",
    "print(new_dict)\n",
    "\n",
    "# Unpacking\n",
    "en,sw = list(en_sw_dict.keys()),list(en_sw_dict.values())\n",
    "print(en,sw)\n",
    "\n",
    "en1,sw1 = zip(*en_sw_dict.items())\n",
    "print(en1,sw1) # cuidado, ahora son tuplas\n",
    "\n"
   ]
  },
  {
   "cell_type": "markdown",
   "metadata": {},
   "source": [
    "# Funciones Lambda (AKA funciones anónimas)\n",
    "\n",
    "    name = lambda parameter(s): expression\n"
   ]
  },
  {
   "cell_type": "code",
   "execution_count": null,
   "metadata": {},
   "outputs": [],
   "source": [
    "\n",
    "def square(x):\n",
    "    return x*x\n",
    "\n",
    "square1 = lambda x: x*x\n",
    "\n",
    "print(square(2))\n",
    "print(square1(2))\n",
    "\n",
    "mlt = lambda x,y: (x+y)*(x-y)\n",
    "\n",
    "print(mlt(2,3))\n",
    "\n",
    "\n",
    "# Exercise\n",
    "\n",
    "# ordenar por apellidos usando una funcion lambda\n",
    "\n",
    "monty_python = ['John Marwood Cleese','Eric Idle','Michael Edward Palin','Terrence Vance Gilliam','Terry Graham Perry Jones', 'Graham Arthur Chapman']\n",
    "\n",
    "monty_python.sort(key = lambda name:name.split(' ')[-1])  \n",
    "\n",
    "# Funciones como parámetros\n",
    "def func(n):\n",
    "    return n\n",
    "    \n",
    "print(type(func(3)))\n",
    "\n",
    "def func(n):\n",
    "    return lambda a: a*n\n",
    "    \n",
    "print(type(func(3)))\n",
    "\n",
    "print(func(3)(4))\n",
    "\n",
    "doble = func(2)\n",
    "\n",
    "print(doble(7))\n",
    "\n",
    "\n",
    "print((lambda a,b,c: a+b+c)(2,3,4))\n",
    "\n",
    "# Generalizar con unpacking\n",
    "\n",
    "print((lambda *args: sum(args))(2,3,4))\n"
   ]
  },
  {
   "cell_type": "code",
   "execution_count": null,
   "metadata": {},
   "outputs": [],
   "source": [
    "\n",
    "\n",
    "# EXERCISE FUNCIONES LAMBDAS\n",
    "\n",
    "\n",
    "# Tienes un club con 6 miembros, y estos son los IDs\n",
    "signups = ['MPF104', 'MPF20', 'MPF2', 'MPF17', 'MPF3', 'MPF45']\n",
    "\n",
    "print(sorted(signups)) # Lexicographic sort\n",
    "\n",
    "# Escriba un método \"sorting by integer\"\n",
    "#print(sorted(...)) # Integer sort\n"
   ]
  },
  {
   "cell_type": "code",
   "execution_count": null,
   "metadata": {},
   "outputs": [],
   "source": [
    "\n",
    "#SOLUCION\n",
    "\n",
    "print(sorted(signups,key = lambda id:int(id[3:]))) # Integer sort\n"
   ]
  },
  {
   "cell_type": "code",
   "execution_count": null,
   "metadata": {},
   "outputs": [],
   "source": [
    "\n",
    "# EXERCISE 2\n",
    "\n",
    "class Player:\n",
    "   def __init__(self, name, score):\n",
    "       self.name = name\n",
    "       self.score =  score\n",
    "\n",
    "Eric = Player('Eric', 116700)\n",
    "John = Player('John', 24327)\n",
    "Terry = Player('Terry', 150000)\n",
    "player_list = [Eric, John, Terry]\n",
    "\n",
    "\n",
    "#Exercise: Sort this by score using lambda!\n",
    "\n",
    "#write code here\n",
    "\n",
    "print([player.name for player in player_list])\n"
   ]
  },
  {
   "cell_type": "code",
   "execution_count": null,
   "metadata": {},
   "outputs": [],
   "source": [
    "\n",
    "# SOLUCION\n",
    "\n",
    "player_list.sort(key = lambda pl: pl.score, reverse = True)\n"
   ]
  },
  {
   "cell_type": "markdown",
   "metadata": {},
   "source": [
    "\n",
    "# LIST Comprehensions\n"
   ]
  },
  {
   "cell_type": "code",
   "execution_count": null,
   "metadata": {},
   "outputs": [],
   "source": [
    "\n",
    "numbers = [1,2,3,4,5,6,7,8,9]\n",
    "# give me a list with num squared for each num in numbers\n",
    "new_list = []\n",
    "for num in numbers:\n",
    "    new_list.append(num*num)\n",
    "print(new_list)\n",
    "\n",
    "\n",
    "# give me a list with num for each num in numbers if num is even \n",
    "new_list = [num for num in numbers if num % 2 == 0]\n",
    "print(new_list)\n",
    "\n",
    "\n",
    "# Usando filter\n",
    "new_list = filter(lambda num: num % 2 ==0,numbers)\n",
    "print(list(new_list))\n"
   ]
  },
  {
   "cell_type": "code",
   "execution_count": null,
   "metadata": {},
   "outputs": [],
   "source": [
    "\n",
    "# EXERCISE\n",
    "\n",
    "# I want a (letter, num) pair for each letter in 'spam' and each number in '0123'\n",
    "new_list = []\n",
    "for letter in 'spam':\n",
    "   for num in range(4):\n",
    "       new_list.append((letter,num))\n",
    "print(new_list)\n",
    "\n",
    "# USE LIST COMPREHENSION\n",
    "\n",
    "new_list = [(letter,num) for letter in'spam' for num in range(4)]\n",
    "print(new_list)\n"
   ]
  },
  {
   "cell_type": "code",
   "execution_count": null,
   "metadata": {},
   "outputs": [],
   "source": [
    "# DICT Comprehension\n",
    "\n",
    "# Dictionary comprehensions\n",
    "movies = [\"And Now for Something Completely Different\",\"Monty Python and the Holy Grail\",\n",
    "\"Monty Python's Life of Brian\",\"Monty Python Live at the Hollywood Bowl\",\"Monty Python's The Meaning of Life\",\"Monty Python Live (Mostly)\"]\n",
    "year =[1971,1975,1979,1982,1983,2014]\n",
    "names = ['John','Eric','Michael','Graham','Terry','TerryG']\n",
    "\n",
    "print(list(zip(movies, year)))\n",
    "\n",
    "\n",
    "# give me a dict('movies': year) for each movies, year in zip(movies, year)\n",
    "\n",
    "new_dict = dict()\n",
    "for movie, yr in zip(movies,year):\n",
    "    new_dict[movie] = yr\n",
    "print(new_dict)\n",
    "\n",
    "# USE DICT COMPREHENSION\n",
    "\n",
    "new_dict = {movie:yr for movie,yr in zip(movies,year)}\n",
    "print(new_dict)\n"
   ]
  },
  {
   "cell_type": "markdown",
   "metadata": {},
   "source": [
    "\n",
    "# Randomness\n"
   ]
  },
  {
   "cell_type": "code",
   "execution_count": null,
   "metadata": {},
   "outputs": [],
   "source": [
    "\n",
    "import random\n",
    "\n",
    "for i in range(5):\n",
    "    print(random.randrange(1,100,2))\n",
    "    \n",
    "friends_list =  ['John', 'Eric', 'Michael', 'Terry', 'Graham']\n",
    "\n",
    "print(random.choice(friends_list))\n",
    "\n",
    "print(random.sample(friends_list,3))\n",
    "\n",
    "random.shuffle(friends_list)\n",
    "print(friends_list)\n"
   ]
  },
  {
   "cell_type": "markdown",
   "metadata": {},
   "source": [
    "\n",
    "## EXERCISE\n",
    "\n",
    "Cree un script .py para generar passwords\n",
    " INPUT:\n",
    " - longitud del password\n",
    " - debe contener letras [Y/n]\n",
    " - debe contener numeros [Y/n]\n",
    "\n",
    " OUTPUT Password sugerido\n"
   ]
  },
  {
   "cell_type": "code",
   "execution_count": null,
   "metadata": {},
   "outputs": [],
   "source": [
    "# SOLUCION\n",
    "\n",
    "import random, string\n",
    "\n",
    "letters_numbers = string.ascii_letters + string.digits\n",
    "\n",
    "if __name__ == '__main__':\n",
    "  \n",
    "  word = random.choices(letters_numbers, k=7)\n",
    "  print(word)\n",
    "\n"
   ]
  },
  {
   "cell_type": "markdown",
   "metadata": {},
   "source": [
    "\n",
    "# Performance\n",
    "\n",
    "Experiment with sieve of Eratosthenes\n",
    "https://es.wikipedia.org/wiki/Criba_de_Erat%C3%B3stenes\n"
   ]
  },
  {
   "cell_type": "code",
   "execution_count": null,
   "metadata": {},
   "outputs": [],
   "source": [
    "# CREANDO UNA CRIBA DE ERASTÓTELES\n",
    "\n",
    "print([x for x in range(1, 151) if not any([x % y == 0 for y in range(2, x)]) and not x == 1])\n",
    "print([x for x in range(2, 151) if not any([x % y == 0 for y in range(2, x)])])\n",
    "\n",
    "# Initialize a list\n",
    "primes = []\n",
    "for possiblePrime in range(2, 151):\n",
    "# Assume number is prime until shown it is not.\n",
    "   isPrime = True\n",
    "   for num in range(2, int(possiblePrime ** 0.5) + 1):\n",
    "       if possiblePrime % num == 0:\n",
    "           isPrime = False\n",
    "           break\n",
    "   if isPrime:\n",
    "       primes.append(possiblePrime)\n",
    "print(primes)\n"
   ]
  },
  {
   "cell_type": "code",
   "execution_count": null,
   "metadata": {},
   "outputs": [],
   "source": [
    "# COMO SABER CUÁL MÉTODO ES MÁS RÁPIDO??\n",
    "\n",
    "import timeit\n",
    "\n",
    "def test1():\n",
    "    [x for x in range(1, 151) if not any([x % y == 0 for y in range(2, x)]) and not x == 1]\n",
    "    \n",
    "    \n",
    "def test2():\n",
    "    [x for x in range(2, 151) if not any([x % y == 0 for y in range(2, x)])]\n",
    "    \n",
    "    \n",
    "def test3():\n",
    "    # Initialize a list\n",
    "    primes = []\n",
    "    for possiblePrime in range(2, 151):\n",
    "    # Assume number is prime until shown it is not.\n",
    "        isPrime = True\n",
    "        for num in range(2, int(possiblePrime ** 0.5) + 1):\n",
    "            if possiblePrime % num == 0:\n",
    "                isPrime = False\n",
    "                break\n",
    "        if isPrime:\n",
    "            primes.append(possiblePrime)\n"
   ]
  },
  {
   "cell_type": "code",
   "execution_count": null,
   "metadata": {},
   "outputs": [],
   "source": [
    "print(timeit.timeit('test1()', globals=globals(), number=10))\n",
    "print(timeit.timeit('test2()', globals=globals(), number=10))\n",
    "print(timeit.timeit('test3()', globals=globals(), number=10))\n"
   ]
  }
 ],
 "metadata": {
  "interpreter": {
   "hash": "efd962336dd54454d7a208cae467b5158154cffc312a7f08d9fd755854b50aaa"
  },
  "kernelspec": {
   "display_name": "Python 3.10.1 ('.venv': venv)",
   "language": "python",
   "name": "python3"
  },
  "language_info": {
   "codemirror_mode": {
    "name": "ipython",
    "version": 3
   },
   "file_extension": ".py",
   "mimetype": "text/x-python",
   "name": "python",
   "nbconvert_exporter": "python",
   "pygments_lexer": "ipython3",
   "version": "3.10.1"
  },
  "orig_nbformat": 4
 },
 "nbformat": 4,
 "nbformat_minor": 2
}

{
 "cells": [
  {
   "cell_type": "code",
   "execution_count": 9,
   "metadata": {},
   "outputs": [],
   "source": [
    "from openpyxl import Workbook, load_workbook\n",
    "import time\n"
   ]
  },
  {
   "cell_type": "markdown",
   "metadata": {},
   "source": [
    "En el código siguiente, hemos escrito datos en las cinco celdas A1, A2, A3, A4 y A5. Estas celdas constan de diferentes tipos de valores.\n",
    "\n",
    "Hemos importado la clase Workbook desde el módulo `openpyxl`. Una clase de libro de trabajo es un contenedor que contiene todas las partes del documento.\n",
    "\n",
    "Aquí hemos definido un nuevo libro de trabajo. Al menos una hoja siempre se hace con un libro de trabajo."
   ]
  },
  {
   "cell_type": "code",
   "execution_count": 79,
   "metadata": {},
   "outputs": [],
   "source": [
    "# Creamos un notebook\n",
    "wb = Workbook()\n",
    "\n",
    "# Activamos el notebook\n",
    "sheet = wb.active\n",
    "\n",
    "# Manipulamos las celdas\n",
    "sheet['A1'] = 87 \n",
    "sheet['A2'] = \"Pedro\"\n",
    "sheet['A3'] = 41.80\n",
    "sheet['A4'] = 10\n",
    "\n",
    "now = time.strftime(\"%x\")\n",
    "sheet['A5'] = now\n",
    "# Guardamos el notebook sample_file.xlsx usando  save()\n",
    "wb.save(\".\\\\excel\\\\sample_file.xlsx\")\n"
   ]
  },
  {
   "cell_type": "markdown",
   "metadata": {},
   "source": [
    "## Openpyxl Write Data to Cell\n",
    "\n",
    "Podemos agregar datos al archivo de Excel usando el siguiente código de Python.\n",
    "\n",
    "Primero, importaremos la función load_workbook desde el módulo `openpyxl`, luego crearemos el objeto del archivo y pasaremos la ruta del archivo como argumento.\n",
    "\n",
    "Considere el siguiente código:"
   ]
  },
  {
   "cell_type": "code",
   "execution_count": 78,
   "metadata": {},
   "outputs": [],
   "source": [
    "# from openpyxl import load_workbook\n",
    "\n",
    "wb = load_workbook(r'.\\\\excel\\\\demo.xlsx')\n",
    "\n",
    "sheet = wb.active\n",
    "sheet['A1'] = 'INTERBANK' # Usando notación letra-número\n",
    "sheet.cell(row=2, column=2).value = 5 # usando notación matricial \n",
    "wb.save(\".\\\\excel\\\\demo.xlsx\")"
   ]
  },
  {
   "cell_type": "markdown",
   "metadata": {},
   "source": [
    "## Openpyxl Append values\n",
    "\n",
    "`openpyxl` proporciona un método `append()`, que se usa para agregar el grupo de valores. Podemos añadir cualquier tipo de valor y estos valores se adjuntan en la parte inferior de la hoja de trabajo actual."
   ]
  },
  {
   "cell_type": "code",
   "execution_count": 77,
   "metadata": {},
   "outputs": [],
   "source": [
    "# from openpyxl import Workbook\n",
    "\n",
    "wb = Workbook()\n",
    "sheet = wb.active\n",
    "\n",
    "data = (\n",
    "  (11, 48, 50),\n",
    "  (81, 30, 82),\n",
    "  (20, 51, 72),\n",
    "  (21, 14, 60),\n",
    "  (28, 41, 49),\n",
    "  (74, 65, 53),\n",
    "  (\"Peter\", 'Andrew',45.63)\n",
    ")\n",
    "\n",
    "for i in data:\n",
    "  sheet.append(i)\n",
    "wb.save('.\\\\excel\\\\appending_values.xlsx')\n"
   ]
  },
  {
   "cell_type": "markdown",
   "metadata": {},
   "source": [
    "## Openpyxl Read Data from cell\n",
    "\n",
    "Podemos leer los datos que hemos escrito previamente en la celda. Hay dos métodos para leer una celda, en primer lugar, podemos acceder a ella por el nombre de la celda. En segundo lugar, podemos acceder a ella mediante la función `cell()`. Por ejemplo, estamos leyendo los datos del archivo `sample_file.xlrs`."
   ]
  },
  {
   "cell_type": "code",
   "execution_count": 76,
   "metadata": {},
   "outputs": [
    {
     "name": "stdout",
     "output_type": "stream",
     "text": [
      "The first cell value: 87\n",
      "The second cell value: Devansh\n",
      "The third cell value: 41.8\n"
     ]
    }
   ],
   "source": [
    "\n",
    "wb = load_workbook('.\\\\excel\\\\sample_file.xlsx')\n",
    "\n",
    "sheet = wb.active\n",
    "\n",
    "x1 = sheet['A1']\n",
    "x2 = sheet['A2']\n",
    "\n",
    "#using cell() function\n",
    "x3 = sheet.cell(row=3, column=1)\n",
    "\n",
    "print(\"The first cell value:\",x1.value)\n",
    "print(\"The second cell value:\",x2.value)\n",
    "print(\"The third cell value:\",x3.value)\n"
   ]
  },
  {
   "cell_type": "markdown",
   "metadata": {},
   "source": [
    "## Openpyxl Read multiple cells\n",
    "\n",
    "Podemos leer los valores de las múltiples celdas. En el siguiente ejemplo, tenemos el archivo de Excel llamado `marks.xlsx` y leeremos cada celda del archivo usando el operador de rango"
   ]
  },
  {
   "cell_type": "code",
   "execution_count": 75,
   "metadata": {},
   "outputs": [
    {
     "name": "stdout",
     "output_type": "stream",
     "text": [
      "Student_name,Marks\n",
      "Tony Stark,47\n",
      "Loki,59\n",
      "Oddin,73\n",
      "Nick Fury,62\n",
      "Samaul,75\n",
      "Peter Parker,80\n"
     ]
    }
   ],
   "source": [
    "wb = load_workbook(r'.\\\\excel\\\\marks.xlsx')\n",
    "\n",
    "sheet = wb.active\n",
    "\n",
    "cells = sheet['A1:B7'] # [esquina superior izq, esquina inferior der]\n",
    "\n",
    "# cells behave like range operator\n",
    "for i1,i2 in cells:\n",
    "  print(f\"{i1.value},{i2.value}\")\n"
   ]
  },
  {
   "cell_type": "markdown",
   "metadata": {},
   "source": [
    "## Openpyxl Iterate by rows\n",
    "\n",
    "openpyxl proporciona la función `iter_row()`, que se utiliza para leer los datos correspondientes a las filas."
   ]
  },
  {
   "cell_type": "code",
   "execution_count": 73,
   "metadata": {},
   "outputs": [
    {
     "name": "stdout",
     "output_type": "stream",
     "text": [
      "90 46 48 44 \n",
      "81 30 32 16 \n",
      "23 95 87 27 \n",
      "65 12 89 53 \n",
      "42 81 40 44 \n",
      "34 51 76 42 \n"
     ]
    }
   ],
   "source": [
    "\n",
    "wb = Workbook()\n",
    "sheet = wb.active\n",
    "\n",
    "rows = (\n",
    "  (90, 46, 48, 44),\n",
    "  (81, 30, 32, 16),\n",
    "  (23, 95, 87,27),\n",
    "  (65, 12, 89, 53),\n",
    "  (42, 81, 40, 44),\n",
    "  (34, 51, 76, 42)\n",
    ")\n",
    "\n",
    "for row in rows:\n",
    "  sheet.append(row)\n",
    "\n",
    "for row in sheet.iter_rows(min_row=1, min_col=1, max_row=6, max_col=4):\n",
    "  for cell in row:\n",
    "    print(cell.value, end=\" \")\n",
    "  print()\n",
    "\n",
    "wb.save('.\\\\excel\\\\iter_rows.xlsx')\n"
   ]
  },
  {
   "cell_type": "markdown",
   "metadata": {},
   "source": [
    "## Openpyxl Iterate by Column\n",
    "\n",
    "`openpyxl` proporciona el método `iter_col()` que devuelve celdas de la hoja de trabajo como columnas."
   ]
  },
  {
   "cell_type": "code",
   "execution_count": 72,
   "metadata": {},
   "outputs": [
    {
     "name": "stdout",
     "output_type": "stream",
     "text": [
      "90 81 23 65 42 34 \n",
      "46 30 95 12 81 51 \n",
      "48 32 87 89 40 76 \n"
     ]
    }
   ],
   "source": [
    "\n",
    "wb = Workbook()\n",
    "sheet = wb.active\n",
    "\n",
    "rows = (\n",
    "  (90, 46, 48, 44),\n",
    "  (81, 30, 32, 16),\n",
    "  (23, 95, 87, 27),\n",
    "  (65, 12, 89, 53),\n",
    "  (42, 81, 40, 44),\n",
    "  (34, 51, 76, 42)\n",
    ")\n",
    "for row in rows:\n",
    "  sheet.append(row)\n",
    "\n",
    "for row in sheet.iter_cols(min_row=1, min_col=1, max_row=6, max_col=3):\n",
    "  for cell in row:\n",
    "    print(cell.value, end=\" \")\n",
    "  print()\n",
    "\n",
    "wb.save('.\\\\excel\\\\iter_cols.xlsx')\n"
   ]
  },
  {
   "cell_type": "markdown",
   "metadata": {},
   "source": [
    "## Openpyxl Sheets\n",
    "\n",
    "Como sabemos, cada libro de trabajo puede tener varias hojas. Primero, necesitamos crear más de una hoja en un solo libro de trabajo, luego podemos acceder a esas hojas de Excel usando Python."
   ]
  },
  {
   "cell_type": "code",
   "execution_count": 71,
   "metadata": {},
   "outputs": [
    {
     "name": "stdout",
     "output_type": "stream",
     "text": [
      "['Sheet1', 'Monday', 'Tuesday', 'Wednesday', 'Thursday', 'Friday', 'Saturday', 'Sunday']\n",
      "<class 'openpyxl.worksheet.worksheet.Worksheet'>\n",
      "Monday\n"
     ]
    }
   ],
   "source": [
    "\n",
    "wb = load_workbook('.\\\\excel\\\\sheets_demo.xlsx')\n",
    "\n",
    "#Getting list of all sheet available in workbook\n",
    "print(wb.sheetnames)\n",
    "\n",
    "# Returning object\n",
    "active_sheet = wb.active\n",
    "print(type(active_sheet))\n",
    "\n",
    "# Title of sheet\n",
    "sheet = wb[\"Monday\"]\n",
    "print(sheet.title)\n"
   ]
  },
  {
   "cell_type": "markdown",
   "metadata": {},
   "source": [
    "## Openpyxl filter and sort data\n",
    "\n",
    "El atributo `auto_filter` se utiliza para establecer las condiciones de filtrado y clasificación"
   ]
  },
  {
   "cell_type": "code",
   "execution_count": 70,
   "metadata": {},
   "outputs": [],
   "source": [
    "\n",
    "wb = Workbook()\n",
    "ws = wb.active\n",
    "\n",
    "data = [\n",
    "  [\"Fruit\", \"Quantity\"],\n",
    "  [\"Kiwi\", 3],\n",
    "  [\"Grape\", 15],\n",
    "  [\"Apple\", 3],\n",
    "  [\"Peach\", 3],\n",
    "  [\"Pomegranate\", 3],\n",
    "  [\"Pear\", 3],\n",
    "  [\"Tangerine\", 3],\n",
    "  [\"Blueberry\", 3],\n",
    "  [\"Mango\", 3],\n",
    "  [\"Watermelon\", 3],\n",
    "  [\"Blackberry\", 3],\n",
    "  [\"Orange\", 3],\n",
    "  [\"Raspberry\", 3],\n",
    "  [\"Banana\", 3]\n",
    "]\n",
    "\n",
    "for r in data:\n",
    "  ws.append(r)\n",
    "\n",
    "ws.auto_filter.ref = \"A1:B15\"\n",
    "ws.auto_filter.add_filter_column(0, [\"Kiwi\", \"Apple\", \"Mango\"])\n",
    "ws.auto_filter.add_sort_condition(\"B2:B15\")\n",
    "\n",
    "wb.save(\".\\\\excel\\\\filtered.xlsx\")\n"
   ]
  },
  {
   "cell_type": "markdown",
   "metadata": {},
   "source": [
    "## Openpyxl Merging cell\n",
    "\n",
    "Podemos fusionar la celda usando el método `merge_cells()`. Cuando combinamos las celdas, la de arriba a la izquierda se elimina de la hoja de trabajo. `openpyxl` también proporciona el método `unmerged_cells()` para separar la celda"
   ]
  },
  {
   "cell_type": "code",
   "execution_count": 69,
   "metadata": {},
   "outputs": [],
   "source": [
    "from openpyxl.styles import Alignment\n",
    "\n",
    "wb = Workbook()\n",
    "sheet = wb.active\n",
    "\n",
    "sheet.merge_cells('A1:B2')\n",
    "\n",
    "cell = sheet.cell(row=1, column=1)\n",
    "cell.value = 'Interbank'\n",
    "cell.alignment = Alignment(horizontal='center', vertical='center')\n",
    "\n",
    "wb.save('.\\\\excel\\\\merging.xlsx')\n"
   ]
  },
  {
   "cell_type": "markdown",
   "metadata": {},
   "source": [
    "Los paneles de congelación están simplemente destinados a congelar un área de la hoja de trabajo como visible mientras se desplaza a otras partes de la hoja de trabajo. Es una característica útil donde podemos mostrar la fila superior o la columna más a la izquierda en la pantalla. Podemos hacer esto pasando el nombre de la celda a la variable `freeze_panes`. Para descongelar todos los paneles, establezca `freeze_panes` en `None`"
   ]
  },
  {
   "cell_type": "code",
   "execution_count": 68,
   "metadata": {},
   "outputs": [],
   "source": [
    "wb = Workbook()\n",
    "sheet = wb.active\n",
    "\n",
    "sheet.freeze_panes = 'A2'\n",
    "\n",
    "wb.save('.\\\\excel\\\\freeze_cells.xlsx')\n"
   ]
  },
  {
   "cell_type": "markdown",
   "metadata": {},
   "source": [
    "## Openpyxl formulas\n",
    "\n",
    "Podemos escribir la fórmula en la celda. Estas fórmulas se utilizan para realizar operaciones en archivos de Excel. Después de escribir en la celda, ejecútelo desde el workbook."
   ]
  },
  {
   "cell_type": "code",
   "execution_count": 66,
   "metadata": {},
   "outputs": [],
   "source": [
    "from openpyxl.styles import Font\n",
    "\n",
    "\n",
    "wb = Workbook()\n",
    "sheet = wb.active\n",
    "\n",
    "rows_count = (\n",
    "  (14, 27),\n",
    "  (22, 30),\n",
    "  (42, 92),\n",
    "  (51, 32),\n",
    "  (16, 60),\n",
    "  (63, 13)\n",
    ")\n",
    "\n",
    "for i in rows_count:\n",
    "  sheet.append(i)\n",
    "\n",
    "cell = sheet.cell(row=7, column=3)\n",
    "cell.value = \"=SUM(A1:B6)\"\n",
    "cell.font = Font(name='Courier', size=14, bold=True, color='0000FF') # REG for Blue\n",
    "\n",
    "wb.save('.\\\\excel\\\\formulas_book.xlsx')\n"
   ]
  },
  {
   "cell_type": "markdown",
   "metadata": {},
   "source": [
    "## Adding Chart to Excel File\n",
    "\n",
    "Charts son una forma eficaz de representar los datos. Usando los gráficos, visualiza los datos que pueden ser fácilmente no comprobables. Hay varios tipos de gráficos: gráfico circular, gráfico de líneas, gráfico de barras, etc. Podemos dibujar un gráfico en una hoja de cálculo usando un módulo openpyxl.\n",
    "\n",
    "Para construir cualquier gráfico en la hoja de cálculo, necesitamos definir el tipo de gráfico como BarChart, LineChart, etc. También importamos la referencia que representa los datos que se utilizan para el gráfico. Es importante definir qué datos queremos representar en el Chart"
   ]
  },
  {
   "cell_type": "code",
   "execution_count": 67,
   "metadata": {},
   "outputs": [],
   "source": [
    "from openpyxl.chart import BarChart, Reference\n",
    "\n",
    "wb = Workbook()\n",
    "sheet = wb.active\n",
    "\n",
    "# Data de estudiantes\n",
    "rows = [\n",
    "  [\"Serial_no\", \"Roll no\", \"Marks\"],\n",
    "  [1, \"0090011\", 75],\n",
    "  [2, \"0090012\", 60],\n",
    "  [3, \"0090013\", 43],\n",
    "  [4, \"0090014\", 97],\n",
    "  [5, \"0090015\", 63],\n",
    "  [6, \"0090016\", 54],\n",
    "  [7, \"0090017\", 86],\n",
    "]\n",
    "\n",
    "for i in rows:\n",
    "  sheet.append(i)\n",
    "\n",
    "chart = BarChart()\n",
    "values = Reference(worksheet=sheet,\n",
    "min_row=1,\n",
    "max_row=8,\n",
    "min_col=2,\n",
    "max_col=3)\n",
    "\n",
    "chart.add_data(values, titles_from_data=True)\n",
    "sheet.add_chart(chart, \"E2\")\n",
    "\n",
    "wb.save(\".\\\\excel\\\\student_chart.xlsx\")\n"
   ]
  },
  {
   "cell_type": "code",
   "execution_count": null,
   "metadata": {},
   "outputs": [],
   "source": []
  }
 ],
 "metadata": {
  "interpreter": {
   "hash": "efd962336dd54454d7a208cae467b5158154cffc312a7f08d9fd755854b50aaa"
  },
  "kernelspec": {
   "display_name": "Python 3.10.1 ('.venv': venv)",
   "language": "python",
   "name": "python3"
  },
  "language_info": {
   "codemirror_mode": {
    "name": "ipython",
    "version": 3
   },
   "file_extension": ".py",
   "mimetype": "text/x-python",
   "name": "python",
   "nbconvert_exporter": "python",
   "pygments_lexer": "ipython3",
   "version": "3.10.1"
  },
  "orig_nbformat": 4
 },
 "nbformat": 4,
 "nbformat_minor": 2
}

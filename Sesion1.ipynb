{
 "cells": [
  {
   "cell_type": "code",
   "execution_count": 1,
   "id": "fbdfa1b0-ce03-4f04-ade6-9daa5ade9e62",
   "metadata": {},
   "outputs": [
    {
     "name": "stdout",
     "output_type": "stream",
     "text": [
      "welcome to Python 101\n",
      "21\n"
     ]
    }
   ],
   "source": [
    "## STRINGS\n",
    "msg='welcome to Python 101'\n",
    "print(msg)\n",
    "print(len(msg))"
   ]
  },
  {
   "cell_type": "code",
   "execution_count": 2,
   "id": "6c966117-27c4-45ab-a01a-8289d8c9d374",
   "metadata": {},
   "outputs": [
    {
     "data": {
      "text/plain": [
       "2002796368864"
      ]
     },
     "execution_count": 2,
     "metadata": {},
     "output_type": "execute_result"
    }
   ],
   "source": [
    "id(msg)"
   ]
  },
  {
   "cell_type": "code",
   "execution_count": 3,
   "id": "e0635254-d66a-40b6-8d28-2d3d0f846acd",
   "metadata": {},
   "outputs": [
    {
     "name": "stdout",
     "output_type": "stream",
     "text": [
      "lcome to Python 101\n",
      "we\n",
      "l\n",
      " 1\n",
      "lcome\n"
     ]
    }
   ],
   "source": [
    "### Slicing\n",
    "print(msg[2:])\n",
    "print(msg[:2])\n",
    "print(msg[2])\n",
    "print(msg[-4:-2])\n",
    "print(msg[2:7])"
   ]
  },
  {
   "cell_type": "code",
   "execution_count": 4,
   "id": "19a8d249-937c-4bfe-81ef-b11a87d9b5f4",
   "metadata": {},
   "outputs": [
    {
     "name": "stdout",
     "output_type": "stream",
     "text": [
      "WELCOME TO PYTHON 101\n",
      "welcome to python 101\n",
      "Welcome to python 101\n",
      "Welcome To Python 101\n"
     ]
    }
   ],
   "source": [
    "print(msg.upper())\n",
    "print(msg.lower())\n",
    "print(msg.capitalize())\n",
    "print(msg.title())"
   ]
  },
  {
   "cell_type": "code",
   "execution_count": 5,
   "id": "bab0f408-63c9-44a6-b4c2-f6181aa7fbdf",
   "metadata": {},
   "outputs": [],
   "source": [
    "## EXERCISES Use Google\n",
    "\n",
    "# transforme 'welcome to Python 101' en '101 Welcome To You!'"
   ]
  },
  {
   "cell_type": "code",
   "execution_count": 6,
   "id": "d6a43213-885b-4918-8a6e-49d922017a6e",
   "metadata": {},
   "outputs": [
    {
     "data": {
      "text/plain": [
       "'101 Welcome To You!'"
      ]
     },
     "execution_count": 6,
     "metadata": {},
     "output_type": "execute_result"
    }
   ],
   "source": [
    "msg[-3:]+' '+msg[:11].title()+'You!'"
   ]
  },
  {
   "cell_type": "code",
   "execution_count": 7,
   "id": "1b9d062b-33ef-4a9b-aec6-949c520667fd",
   "metadata": {},
   "outputs": [],
   "source": [
    "msg='welcome to Python 101'"
   ]
  },
  {
   "cell_type": "code",
   "execution_count": 8,
   "id": "f846f77d-3b80-47b2-bcfa-709249d5dad6",
   "metadata": {},
   "outputs": [
    {
     "name": "stdout",
     "output_type": "stream",
     "text": [
      "4\n",
      "welcome to Java 101\n"
     ]
    }
   ],
   "source": [
    "## FIND AND REPLACE\n",
    "print(msg.find('o'))\n",
    "print(msg.replace('Python','Java'))"
   ]
  },
  {
   "cell_type": "code",
   "execution_count": 9,
   "id": "42a553cc-637c-44a7-aa7e-29c0d1d69e17",
   "metadata": {},
   "outputs": [
    {
     "name": "stdout",
     "output_type": "stream",
     "text": [
      "True\n",
      "False\n"
     ]
    }
   ],
   "source": [
    "print('Python' in msg) #True\n",
    "print('Python' not in msg) #False"
   ]
  },
  {
   "cell_type": "code",
   "execution_count": 10,
   "id": "b307cb77-82e4-48ba-b2af-d49f999a9cd9",
   "metadata": {},
   "outputs": [
    {
     "data": {
      "text/plain": [
       "bool"
      ]
     },
     "execution_count": 10,
     "metadata": {},
     "output_type": "execute_result"
    }
   ],
   "source": [
    "type(True)"
   ]
  },
  {
   "cell_type": "code",
   "execution_count": 11,
   "id": "e83018f3-b737-40e4-a356-c4cb25763fe8",
   "metadata": {},
   "outputs": [],
   "source": [
    "name='TERRY'\n",
    "color = 'RED'\n",
    "msg = '...' + name + ' loves the color ' + color + '!'"
   ]
  },
  {
   "cell_type": "code",
   "execution_count": 12,
   "id": "01d24209-c4e2-4a3c-b54e-ef5471d6f4a5",
   "metadata": {},
   "outputs": [
    {
     "name": "stdout",
     "output_type": "stream",
     "text": [
      "...TERRY loves the color RED!\n"
     ]
    }
   ],
   "source": [
    "print(msg)"
   ]
  },
  {
   "cell_type": "code",
   "execution_count": 13,
   "id": "9ef68b05-be96-4ee8-860c-16a724fe0f36",
   "metadata": {},
   "outputs": [],
   "source": [
    "msg1 = f'...{name} loves the color {color.lower()}!'"
   ]
  },
  {
   "cell_type": "code",
   "execution_count": 14,
   "id": "c5cd7339-eaec-43eb-bf54-9db97415694f",
   "metadata": {},
   "outputs": [
    {
     "name": "stdout",
     "output_type": "stream",
     "text": [
      "...TERRY loves the color red!\n"
     ]
    }
   ],
   "source": [
    "print(msg1)"
   ]
  },
  {
   "cell_type": "code",
   "execution_count": 15,
   "id": "7a579c53-c4c1-4ab9-b939-312b84e121c7",
   "metadata": {},
   "outputs": [
    {
     "name": "stdout",
     "output_type": "stream",
     "text": [
      "Hello jose! You are 22 years old.\n"
     ]
    }
   ],
   "source": [
    "## USER INPUT\n",
    "\n",
    "name= input('What is your name?: ')\n",
    "age=input('What is your age?: ')\n",
    "print(f'Hello {name}! You are {age} years old.')"
   ]
  },
  {
   "cell_type": "code",
   "execution_count": 16,
   "id": "a100a367-aa31-4e89-8b90-778a61f5beeb",
   "metadata": {},
   "outputs": [
    {
     "data": {
      "text/plain": [
       "'\\n1. TOMAR DOS INPUTS DEL USUARIO: nombre y distancia en KM\\n2. Print Nombre, Km, millas\\n\\n1 milla es 1.609 km\\n'"
      ]
     },
     "execution_count": 16,
     "metadata": {},
     "output_type": "execute_result"
    }
   ],
   "source": [
    "### EXERCISE\n",
    "\"\"\"\n",
    "1. TOMAR DOS INPUTS DEL USUARIO: nombre y distancia en KM\n",
    "2. Print Nombre, Km, millas\n",
    "\n",
    "1 milla es 1.609 km\n",
    "\"\"\""
   ]
  },
  {
   "cell_type": "code",
   "execution_count": 17,
   "id": "0eb0ef42-f4f6-45c0-8da4-abf0e0054b74",
   "metadata": {},
   "outputs": [
    {
     "name": "stdout",
     "output_type": "stream",
     "text": [
      "Hi Jose! 10km is equivalent to 6.2 miles.\n"
     ]
    }
   ],
   "source": [
    "name = input('Enter your name: ')\n",
    "distance_km = input('Enter distance in km: ')\n",
    "distance_mi = 1.609\n",
    "print(f'Hi {name.title()}! {distance_km}km is equivalent to {round(float(distance_km)/distance_mi,1)} miles.')"
   ]
  },
  {
   "cell_type": "code",
   "execution_count": 18,
   "id": "c2245eef-b7f7-40b2-84ed-ea34f7d1d5b9",
   "metadata": {},
   "outputs": [],
   "source": [
    "## LISTS\n",
    "\n",
    "friends = ['John','Michael','Terry','Eric','Graham',]"
   ]
  },
  {
   "cell_type": "code",
   "execution_count": 19,
   "id": "99358046-b397-4032-9903-9e64a652fb0d",
   "metadata": {},
   "outputs": [
    {
     "data": {
      "text/plain": [
       "3"
      ]
     },
     "execution_count": 19,
     "metadata": {},
     "output_type": "execute_result"
    }
   ],
   "source": [
    "len([1,2,3,])"
   ]
  },
  {
   "cell_type": "code",
   "execution_count": 20,
   "id": "a0356c5b-2a69-4d18-93f6-3efe2c34f74c",
   "metadata": {},
   "outputs": [
    {
     "name": "stdout",
     "output_type": "stream",
     "text": [
      "Michael Graham\n",
      "5\n",
      "['Terry', 'Eric', 'Graham']\n"
     ]
    }
   ],
   "source": [
    "print(friends[1],friends[4])\n",
    "print(len(friends))\n",
    "print(friends[2:len(friends)])"
   ]
  },
  {
   "cell_type": "code",
   "execution_count": 21,
   "id": "42158e57-741e-49cc-8b54-6fd20f89b508",
   "metadata": {},
   "outputs": [],
   "source": [
    "friends.sort(reverse=True)"
   ]
  },
  {
   "cell_type": "code",
   "execution_count": 22,
   "id": "f29e9dc9-4743-45f9-9af2-a01b2cbba790",
   "metadata": {},
   "outputs": [
    {
     "name": "stdout",
     "output_type": "stream",
     "text": [
      "['Terry', 'Michael', 'John', 'Graham', 'Eric']\n"
     ]
    }
   ],
   "source": [
    "print(friends)"
   ]
  },
  {
   "cell_type": "code",
   "execution_count": 23,
   "id": "748fe826-2382-447d-9836-48cbce6ad72a",
   "metadata": {},
   "outputs": [],
   "source": [
    "friends.reverse()"
   ]
  },
  {
   "cell_type": "code",
   "execution_count": 24,
   "id": "aa9468cc-23c3-49c0-9fd1-0ec1c1f7fefd",
   "metadata": {},
   "outputs": [
    {
     "name": "stdout",
     "output_type": "stream",
     "text": [
      "['Eric', 'Graham', 'John', 'Michael', 'Terry']\n"
     ]
    }
   ],
   "source": [
    "print(friends)"
   ]
  },
  {
   "cell_type": "code",
   "execution_count": 25,
   "id": "18c0bb34-9e1e-45a1-8500-483ede630c71",
   "metadata": {},
   "outputs": [],
   "source": [
    "amigos = friends.copy().reverse()"
   ]
  },
  {
   "cell_type": "code",
   "execution_count": 26,
   "id": "e0bd0af9-1db8-4fd2-b83a-fc3162ef12df",
   "metadata": {},
   "outputs": [
    {
     "data": {
      "text/plain": [
       "2174678941440"
      ]
     },
     "execution_count": 26,
     "metadata": {},
     "output_type": "execute_result"
    }
   ],
   "source": [
    "id(friends)"
   ]
  },
  {
   "cell_type": "code",
   "execution_count": 27,
   "id": "9e104077-43ea-43b2-8bf1-6970313ce842",
   "metadata": {},
   "outputs": [
    {
     "data": {
      "text/plain": [
       "140711205660664"
      ]
     },
     "execution_count": 27,
     "metadata": {},
     "output_type": "execute_result"
    }
   ],
   "source": [
    "id(amigos)"
   ]
  },
  {
   "cell_type": "code",
   "execution_count": 28,
   "id": "d0e0d3fe-93af-4d43-bc08-a36ef8fc6a22",
   "metadata": {},
   "outputs": [
    {
     "name": "stdout",
     "output_type": "stream",
     "text": [
      "['Eric', 'Graham', 'John', 'Michael', 'Terry']\n"
     ]
    }
   ],
   "source": [
    "print(friends)"
   ]
  },
  {
   "cell_type": "code",
   "execution_count": 29,
   "id": "14b28cab-e400-4a24-9468-4b0b2636bf72",
   "metadata": {},
   "outputs": [
    {
     "name": "stdout",
     "output_type": "stream",
     "text": [
      "None\n"
     ]
    }
   ],
   "source": [
    "print(amigos)"
   ]
  },
  {
   "cell_type": "code",
   "execution_count": 30,
   "id": "7bef619a-ae48-4815-8dc3-1c87add5afa5",
   "metadata": {},
   "outputs": [],
   "source": [
    "cars = [911,130,328,535,740,308]"
   ]
  },
  {
   "cell_type": "code",
   "execution_count": 31,
   "id": "b855749f-9d36-49f8-944d-ba2c91512f5a",
   "metadata": {},
   "outputs": [
    {
     "name": "stdout",
     "output_type": "stream",
     "text": [
      "130\n",
      "911\n",
      "2952\n"
     ]
    }
   ],
   "source": [
    "print(min(cars))\n",
    "print(max(cars))\n",
    "print(sum(cars))"
   ]
  },
  {
   "cell_type": "code",
   "execution_count": 32,
   "id": "699ade91-e11a-48d8-ad12-e2bfac6462bb",
   "metadata": {},
   "outputs": [],
   "source": [
    "friends = ['John','Michael','Terry','Eric','Graham']"
   ]
  },
  {
   "cell_type": "code",
   "execution_count": 33,
   "id": "3d5ead88-ef83-41b4-bdd7-f035f8083cc7",
   "metadata": {},
   "outputs": [],
   "source": [
    "friends.append('TerryG')"
   ]
  },
  {
   "cell_type": "code",
   "execution_count": 34,
   "id": "851afb9a-0e2c-401a-b375-240cedbf7d24",
   "metadata": {},
   "outputs": [
    {
     "name": "stdout",
     "output_type": "stream",
     "text": [
      "['John', 'Michael', 'Terry', 'Eric', 'Graham', 'TerryG']\n"
     ]
    }
   ],
   "source": [
    "print(friends)"
   ]
  },
  {
   "cell_type": "code",
   "execution_count": 35,
   "id": "5fd6e4ef-b816-41b7-99cf-609c4b395bc2",
   "metadata": {},
   "outputs": [],
   "source": [
    "friends.insert(1,'TerryG')"
   ]
  },
  {
   "cell_type": "code",
   "execution_count": 36,
   "id": "25fe67bf-7978-4132-955d-6e384bc0b271",
   "metadata": {},
   "outputs": [
    {
     "name": "stdout",
     "output_type": "stream",
     "text": [
      "['John', 'TerryG', 'Michael', 'Terry', 'Eric', 'Graham', 'TerryG']\n"
     ]
    }
   ],
   "source": [
    "print(friends)"
   ]
  },
  {
   "cell_type": "code",
   "execution_count": 37,
   "id": "231c2aff-e4f2-49fd-936a-dfb4f53808db",
   "metadata": {},
   "outputs": [],
   "source": [
    "friends[1]='TerryG'"
   ]
  },
  {
   "cell_type": "code",
   "execution_count": 38,
   "id": "12d39446-01b7-4c97-ab2a-a6775c47f9be",
   "metadata": {},
   "outputs": [
    {
     "name": "stdout",
     "output_type": "stream",
     "text": [
      "['John', 'TerryG', 'Michael', 'Terry', 'Eric', 'Graham', 'TerryG']\n"
     ]
    }
   ],
   "source": [
    "print(friends)"
   ]
  },
  {
   "cell_type": "code",
   "execution_count": 39,
   "id": "f9a03ab5-ce37-47a0-a909-e26971add57c",
   "metadata": {},
   "outputs": [
    {
     "data": {
      "text/plain": [
       "'TerryG'"
      ]
     },
     "execution_count": 39,
     "metadata": {},
     "output_type": "execute_result"
    }
   ],
   "source": [
    "friends.pop()"
   ]
  },
  {
   "cell_type": "code",
   "execution_count": 40,
   "id": "65d14289-fe2b-43c2-ad8a-17ca036d50a1",
   "metadata": {},
   "outputs": [
    {
     "name": "stdout",
     "output_type": "stream",
     "text": [
      "['John', 'TerryG', 'Michael', 'Terry', 'Eric', 'Graham']\n"
     ]
    }
   ],
   "source": [
    "print(friends)"
   ]
  },
  {
   "cell_type": "code",
   "execution_count": 41,
   "id": "74f90106-80f5-4635-8517-b8f03b3b85c3",
   "metadata": {},
   "outputs": [],
   "source": [
    "v = friends.pop(2)"
   ]
  },
  {
   "cell_type": "code",
   "execution_count": 42,
   "id": "8ba37a47-fd19-487f-9a79-01e15170df18",
   "metadata": {},
   "outputs": [
    {
     "name": "stdout",
     "output_type": "stream",
     "text": [
      "['John', 'TerryG', 'Terry', 'Eric', 'Graham']\n"
     ]
    }
   ],
   "source": [
    "print(friends)"
   ]
  },
  {
   "cell_type": "code",
   "execution_count": 43,
   "id": "56517c86-29b1-4dfe-a663-3334ff891a31",
   "metadata": {},
   "outputs": [],
   "source": [
    "friends.clear()"
   ]
  },
  {
   "cell_type": "code",
   "execution_count": 44,
   "id": "1b75bd24-5739-41b8-8908-a739d5d4eddd",
   "metadata": {},
   "outputs": [
    {
     "name": "stdout",
     "output_type": "stream",
     "text": [
      "[]\n"
     ]
    }
   ],
   "source": [
    "print(friends)"
   ]
  },
  {
   "cell_type": "code",
   "execution_count": 45,
   "id": "22faf4c3-7729-47b0-a514-302856dc22d8",
   "metadata": {},
   "outputs": [],
   "source": [
    "del friends"
   ]
  },
  {
   "cell_type": "code",
   "execution_count": 46,
   "id": "44f8befd-3c7f-43bd-9b80-89e52c4a7359",
   "metadata": {},
   "outputs": [
    {
     "ename": "NameError",
     "evalue": "name 'friends' is not defined",
     "output_type": "error",
     "traceback": [
      "\u001b[1;31m---------------------------------------------------------------------------\u001b[0m",
      "\u001b[1;31mNameError\u001b[0m                                 Traceback (most recent call last)",
      "\u001b[1;32mc:\\Users\\paxonian\\Desktop\\python-ibk\\Untitled.ipynb Cell 46'\u001b[0m in \u001b[0;36m<cell line: 1>\u001b[1;34m()\u001b[0m\n\u001b[1;32m----> <a href='vscode-notebook-cell:/c%3A/Users/paxonian/Desktop/python-ibk/Untitled.ipynb#ch0000045?line=0'>1</a>\u001b[0m \u001b[39mprint\u001b[39m(friends)\n",
      "\u001b[1;31mNameError\u001b[0m: name 'friends' is not defined"
     ]
    }
   ],
   "source": [
    "print(friends)"
   ]
  },
  {
   "cell_type": "code",
   "execution_count": 47,
   "id": "2061fa56-af39-4874-a8d1-3e063dfacf24",
   "metadata": {},
   "outputs": [
    {
     "ename": "NameError",
     "evalue": "name 'friends' is not defined",
     "output_type": "error",
     "traceback": [
      "\u001b[1;31m---------------------------------------------------------------------------\u001b[0m",
      "\u001b[1;31mNameError\u001b[0m                                 Traceback (most recent call last)",
      "\u001b[1;32mc:\\Users\\paxonian\\Desktop\\python-ibk\\Untitled.ipynb Cell 47'\u001b[0m in \u001b[0;36m<cell line: 1>\u001b[1;34m()\u001b[0m\n\u001b[1;32m----> <a href='vscode-notebook-cell:/c%3A/Users/paxonian/Desktop/python-ibk/Untitled.ipynb#ch0000046?line=0'>1</a>\u001b[0m \u001b[39mdel\u001b[39;00m friends[\u001b[39m2\u001b[39m]\n",
      "\u001b[1;31mNameError\u001b[0m: name 'friends' is not defined"
     ]
    }
   ],
   "source": [
    "del friends[2]"
   ]
  },
  {
   "cell_type": "code",
   "execution_count": 48,
   "id": "5ea68449-a53b-43fb-89ec-876b60577d0a",
   "metadata": {},
   "outputs": [
    {
     "ename": "NameError",
     "evalue": "name 'friends' is not defined",
     "output_type": "error",
     "traceback": [
      "\u001b[1;31m---------------------------------------------------------------------------\u001b[0m",
      "\u001b[1;31mNameError\u001b[0m                                 Traceback (most recent call last)",
      "\u001b[1;32mc:\\Users\\paxonian\\Desktop\\python-ibk\\Untitled.ipynb Cell 48'\u001b[0m in \u001b[0;36m<cell line: 1>\u001b[1;34m()\u001b[0m\n\u001b[1;32m----> <a href='vscode-notebook-cell:/c%3A/Users/paxonian/Desktop/python-ibk/Untitled.ipynb#ch0000047?line=0'>1</a>\u001b[0m \u001b[39mprint\u001b[39m(friends)\n",
      "\u001b[1;31mNameError\u001b[0m: name 'friends' is not defined"
     ]
    }
   ],
   "source": [
    "print(friends)"
   ]
  },
  {
   "cell_type": "code",
   "execution_count": 49,
   "id": "2cfabba8-b5cf-40d0-8599-602909a189f1",
   "metadata": {},
   "outputs": [
    {
     "ename": "NameError",
     "evalue": "name 'friends' is not defined",
     "output_type": "error",
     "traceback": [
      "\u001b[1;31m---------------------------------------------------------------------------\u001b[0m",
      "\u001b[1;31mNameError\u001b[0m                                 Traceback (most recent call last)",
      "\u001b[1;32mc:\\Users\\paxonian\\Desktop\\python-ibk\\Untitled.ipynb Cell 49'\u001b[0m in \u001b[0;36m<cell line: 1>\u001b[1;34m()\u001b[0m\n\u001b[1;32m----> <a href='vscode-notebook-cell:/c%3A/Users/paxonian/Desktop/python-ibk/Untitled.ipynb#ch0000048?line=0'>1</a>\u001b[0m friends\n",
      "\u001b[1;31mNameError\u001b[0m: name 'friends' is not defined"
     ]
    }
   ],
   "source": [
    "friends"
   ]
  },
  {
   "cell_type": "code",
   "execution_count": 50,
   "id": "e3af044c-f96c-4c07-a905-1ee08c33fcb3",
   "metadata": {},
   "outputs": [
    {
     "ename": "NameError",
     "evalue": "name 'friends' is not defined",
     "output_type": "error",
     "traceback": [
      "\u001b[1;31m---------------------------------------------------------------------------\u001b[0m",
      "\u001b[1;31mNameError\u001b[0m                                 Traceback (most recent call last)",
      "\u001b[1;32mc:\\Users\\paxonian\\Desktop\\python-ibk\\Untitled.ipynb Cell 50'\u001b[0m in \u001b[0;36m<cell line: 1>\u001b[1;34m()\u001b[0m\n\u001b[1;32m----> <a href='vscode-notebook-cell:/c%3A/Users/paxonian/Desktop/python-ibk/Untitled.ipynb#ch0000049?line=0'>1</a>\u001b[0m \u001b[39m'\u001b[39m\u001b[39mEric\u001b[39m\u001b[39m'\u001b[39m \u001b[39min\u001b[39;00m friends\n",
      "\u001b[1;31mNameError\u001b[0m: name 'friends' is not defined"
     ]
    }
   ],
   "source": [
    "'Eric' in friends"
   ]
  },
  {
   "cell_type": "raw",
   "id": "0513f828-7a4b-4286-acae-622a3aa4eafb",
   "metadata": {},
   "source": [
    "# EXERCISE\n",
    "Puesto de aguas frescas\n",
    "\n",
    "- Usted vende limonada por 2 semanas, la lista muestra el numero de aguas frescas vendidas por semana\n",
    "- El precio de la limonada es $1.5\n",
    "\n",
    "* Añada otro dia a la lista de la semana 2 capturando el numero usando input()\n",
    "* Combine las dos listas en una lista nueva llamada ventas\n",
    "* Calcule e imprima cuanto ganó en\n",
    "- Su mejor día\n",
    "- Su peor Día\n",
    "- Cuanto vendió Separado y en total\n",
    "\n",
    "INPUT\n",
    "sales_w1 = [7,3,42,19,15,35,9]\n",
    "sales_w2 = [12,4,26,10,7,28]\n",
    "sales = []\n",
    "\n",
    "OUTPUT\n",
    "› Worst day profit:$ 4.5\n",
    "› Best day profit:$ 63.0\n",
    "› Combined profit:$ 67.5"
   ]
  },
  {
   "cell_type": "code",
   "execution_count": 51,
   "id": "b6fc13f2-a936-4977-8976-1081b322b6fc",
   "metadata": {},
   "outputs": [
    {
     "name": "stdout",
     "output_type": "stream",
     "text": [
      "Worst day profit:$ 4.5\n",
      "Best day profit:$ 63.0\n",
      "Combined profit:$ 67.5\n"
     ]
    }
   ],
   "source": [
    "sales_w1 = [7,3,42,19,15,35,9]\n",
    "sales_w2 = [12,4,26,10,7,28]\n",
    "sales = []\n",
    "\n",
    "new_day = input('Número de limonadas 🍋 del nuevo día : ')\n",
    "sales_w2.append(int(new_day))\n",
    "\n",
    "sales = sales_w1 + sales_w2\n",
    "# sales.extend(sales_w1)\n",
    "# sales.extend(sales_w2)\n",
    "\n",
    "sales.sort()\n",
    "worst_day_prof = sales[0] * 1.5\n",
    "best_day_prof = sales[-1] * 1.5\n",
    "\n",
    "print(f'Worst day profit:$ {worst_day_prof}')\n",
    "print(f'Best day profit:$ {best_day_prof}')\n",
    "print(f'Combined profit:$ {worst_day_prof + best_day_prof}')"
   ]
  },
  {
   "cell_type": "code",
   "execution_count": 52,
   "id": "37005bee-80c6-449b-980f-fdc398c8a2c6",
   "metadata": {},
   "outputs": [
    {
     "name": "stdout",
     "output_type": "stream",
     "text": [
      "['Welcome', '', 'to', '', 'Python', '', '101:', 'Split', 'and', 'Join']\n"
     ]
    }
   ],
   "source": [
    "## Split and join\n",
    "msg ='Welcome  to  Python  101: Split and Join'\n",
    "print(msg.split(' '))"
   ]
  },
  {
   "cell_type": "code",
   "execution_count": 53,
   "id": "d5237765-d498-47a0-a1b7-0d4e68a9a486",
   "metadata": {},
   "outputs": [
    {
     "name": "stdout",
     "output_type": "stream",
     "text": [
      "WelcometoPython101:SplitandJoin\n",
      "WelcometoPython101:SplitandJoin\n"
     ]
    }
   ],
   "source": [
    "# REMOVER LOS ESPACIOS EN msg\n",
    "print(''.join(msg.split()))\n",
    "print(msg.replace(' ', ''))"
   ]
  },
  {
   "cell_type": "code",
   "execution_count": 59,
   "id": "dbff9d9c-3e47-4c1d-a68c-b2d2110c10b7",
   "metadata": {},
   "outputs": [],
   "source": [
    "msg_split = msg.split(' ')"
   ]
  },
  {
   "cell_type": "code",
   "execution_count": 60,
   "id": "08f62d28-dc2f-4eb9-8d60-d244cddac673",
   "metadata": {},
   "outputs": [
    {
     "data": {
      "text/plain": [
       "'Welcome to Python 101: Split and Join '"
      ]
     },
     "execution_count": 60,
     "metadata": {},
     "output_type": "execute_result"
    }
   ],
   "source": [
    "''.join(i + ' ' for i in msg_split if i != '')"
   ]
  },
  {
   "cell_type": "code",
   "execution_count": 70,
   "id": "1df48536-c1f0-49dc-8389-8468ded81e29",
   "metadata": {},
   "outputs": [
    {
     "name": "stdout",
     "output_type": "stream",
     "text": [
      "Welcome to Python 101: Split and Join \n"
     ]
    }
   ],
   "source": [
    "# La línea anterior es equivalente a lo siguiente:\n",
    "s = ''\n",
    "for i in msg_split:\n",
    "  if i != '':\n",
    "    s += i +' '\n",
    "\n",
    "print(s)"
   ]
  },
  {
   "cell_type": "code",
   "execution_count": null,
   "id": "0b2f4af7-4115-4502-b9c6-42e682fa192e",
   "metadata": {},
   "outputs": [],
   "source": []
  }
 ],
 "metadata": {
  "kernelspec": {
   "display_name": "Python 3 (ipykernel)",
   "language": "python",
   "name": "python3"
  },
  "language_info": {
   "codemirror_mode": {
    "name": "ipython",
    "version": 3
   },
   "file_extension": ".py",
   "mimetype": "text/x-python",
   "name": "python",
   "nbconvert_exporter": "python",
   "pygments_lexer": "ipython3",
   "version": "3.10.1"
  }
 },
 "nbformat": 4,
 "nbformat_minor": 5
}

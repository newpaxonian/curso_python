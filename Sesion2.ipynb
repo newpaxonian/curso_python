{
 "cells": [
  {
   "cell_type": "code",
   "execution_count": 1,
   "metadata": {},
   "outputs": [
    {
     "name": "stdout",
     "output_type": "stream",
     "text": [
      "Terry\n",
      "Terry\n",
      "['Terry', 'Eric']\n",
      "('Terry', 'Eric')\n"
     ]
    }
   ],
   "source": [
    "# TUPLES\n",
    "# SON INMUTABLES\n",
    "\n",
    "# Los Loops son más rápidos con tuplas\n",
    "\n",
    "friends = ['John','Michael','Terry','Eric','Graham']\n",
    "friends_tuple = ('John','Michael','Terry','Eric','Graham')\n",
    "print(friends[2])\n",
    "print(friends_tuple[2])\n",
    "# slicing\n",
    "print(friends[2:4])\n",
    "print(friends_tuple[2:4])"
   ]
  },
  {
   "cell_type": "code",
   "execution_count": 3,
   "metadata": {},
   "outputs": [
    {
     "data": {
      "text/plain": [
       "list"
      ]
     },
     "execution_count": 3,
     "metadata": {},
     "output_type": "execute_result"
    }
   ],
   "source": [
    "type(friends)"
   ]
  },
  {
   "cell_type": "code",
   "execution_count": 5,
   "metadata": {},
   "outputs": [
    {
     "data": {
      "text/plain": [
       "(4, 'jffb', 4, 'jffb')"
      ]
     },
     "execution_count": 5,
     "metadata": {},
     "output_type": "execute_result"
    }
   ],
   "source": [
    "(4,'jffb')*2"
   ]
  },
  {
   "cell_type": "code",
   "execution_count": 6,
   "metadata": {},
   "outputs": [
    {
     "name": "stdout",
     "output_type": "stream",
     "text": [
      "['John', 'Michael', 'Terry', 'Eric', 'Graham']\n",
      "('John', 'Michael', 'Terry', 'Eric', 'Graham')\n",
      "{'John', 'Terry', 'Michael', 'Eric', 'Graham'}\n"
     ]
    }
   ],
   "source": [
    "# SETS\n",
    "# no tienen orden\n",
    "# no tienen elementos repetidos\n",
    "\n",
    "#Sets - blazingly fast unordered Lists \n",
    "friends = ['John','Michael','Terry','Eric','Graham']\n",
    "friends_tuple = ('John','Michael','Terry','Eric','Graham')\n",
    "friends_set = {'John','Michael','Terry','Eric','Graham','Eric'}\n",
    "print(friends)\n",
    "print(friends_tuple)\n",
    "print(friends_set)"
   ]
  },
  {
   "cell_type": "code",
   "execution_count": 7,
   "metadata": {},
   "outputs": [
    {
     "name": "stdout",
     "output_type": "stream",
     "text": [
      "{'Graham', 'Eric'}\n",
      "{'Terry', 'John', 'Michael'}\n"
     ]
    }
   ],
   "source": [
    "my_friends_set = {'Reg','Loretta','Colin','Eric','Graham'}\n",
    "\n",
    "print(friends_set.intersection(my_friends_set))\n",
    "print(friends_set.difference(my_friends_set))\n"
   ]
  },
  {
   "cell_type": "code",
   "execution_count": 8,
   "metadata": {},
   "outputs": [],
   "source": [
    "# Sets - más rápidos que las listas, pero no admiten repeticiones \n",
    "\n",
    "# empty Lists\n",
    "empty_list = []\n",
    "empyt_list = list()\n",
    "\n",
    "# empty Tuple\n",
    "empty_tuple = ()\n",
    "empty_tuple = tuple()\n",
    "\n",
    "# empty Set\n",
    "empty_set = {} # this is wrong, this is a dictionary\n",
    "empty_set = set()"
   ]
  },
  {
   "cell_type": "code",
   "execution_count": 9,
   "metadata": {},
   "outputs": [
    {
     "data": {
      "text/plain": [
       "0"
      ]
     },
     "execution_count": 9,
     "metadata": {},
     "output_type": "execute_result"
    }
   ],
   "source": [
    "len(empty_set)"
   ]
  },
  {
   "cell_type": "code",
   "execution_count": 10,
   "metadata": {},
   "outputs": [],
   "source": [
    "empty_set.add(42)"
   ]
  },
  {
   "cell_type": "code",
   "execution_count": 11,
   "metadata": {},
   "outputs": [
    {
     "name": "stdout",
     "output_type": "stream",
     "text": [
      "{42}\n"
     ]
    }
   ],
   "source": [
    "print(empty_set)"
   ]
  },
  {
   "cell_type": "code",
   "execution_count": 12,
   "metadata": {},
   "outputs": [],
   "source": [
    "empty_list.append(42)"
   ]
  },
  {
   "cell_type": "code",
   "execution_count": 14,
   "metadata": {},
   "outputs": [
    {
     "name": "stdout",
     "output_type": "stream",
     "text": [
      "[42]\n"
     ]
    }
   ],
   "source": [
    "print(empty_list)"
   ]
  },
  {
   "cell_type": "code",
   "execution_count": 15,
   "metadata": {},
   "outputs": [],
   "source": [
    "#Sets - Exercise\n",
    "\n",
    "#1. Comprobar si 'Eric' y 'John' existen en friends\n",
    "#2. Combinar o sumar los dos conjuntos\n",
    "#3. Encuentra nombres que están en ambos conjuntos\n",
    "#4. Encontrar nombres que solo están en friends\n",
    "#5. Mostrar solo los nombres que solo aparecen en una de las listas\n",
    "#6. Crear una nueva lista de autos sin duplicados\n",
    "\n",
    "friends = {'John','Michael','Terry','Eric','Graham'}\n",
    "my_friends = {'Reg','Loretta','Colin','John','Graham'}\n",
    "cars =['900','420','V70','911','996','V90','911','911','S','328','900']"
   ]
  },
  {
   "cell_type": "code",
   "execution_count": 16,
   "metadata": {},
   "outputs": [
    {
     "name": "stdout",
     "output_type": "stream",
     "text": [
      "True\n"
     ]
    }
   ],
   "source": [
    "# 1\n",
    "print('Eric' in friends and 'John' in friends)"
   ]
  },
  {
   "cell_type": "code",
   "execution_count": 19,
   "metadata": {},
   "outputs": [
    {
     "name": "stdout",
     "output_type": "stream",
     "text": [
      "{'Colin', 'Eric', 'Graham', 'Loretta', 'John', 'Terry', 'Reg', 'Michael'}\n",
      "{'Colin', 'Eric', 'Graham', 'Loretta', 'John', 'Terry', 'Reg', 'Michael'}\n"
     ]
    }
   ],
   "source": [
    "#2\n",
    "print(friends.union(my_friends))\n",
    "print(friends | my_friends )"
   ]
  },
  {
   "cell_type": "code",
   "execution_count": 20,
   "metadata": {},
   "outputs": [
    {
     "name": "stdout",
     "output_type": "stream",
     "text": [
      "{'John', 'Graham'}\n",
      "{'John', 'Graham'}\n"
     ]
    }
   ],
   "source": [
    "#3\n",
    "print(friends & my_friends)\n",
    "print(friends.intersection(my_friends))"
   ]
  },
  {
   "cell_type": "code",
   "execution_count": 21,
   "metadata": {},
   "outputs": [
    {
     "name": "stdout",
     "output_type": "stream",
     "text": [
      "{'Eric', 'Terry', 'Michael'}\n",
      "{'Eric', 'Terry', 'Michael'}\n"
     ]
    }
   ],
   "source": [
    "#4\n",
    "print(friends.difference(my_friends))\n",
    "print(friends - my_friends)"
   ]
  },
  {
   "cell_type": "code",
   "execution_count": 22,
   "metadata": {},
   "outputs": [
    {
     "name": "stdout",
     "output_type": "stream",
     "text": [
      "{'Reg', 'Terry', 'Colin', 'Loretta', 'Michael', 'Eric'}\n",
      "{'Reg', 'Terry', 'Colin', 'Loretta', 'Michael', 'Eric'}\n"
     ]
    }
   ],
   "source": [
    "#5\n",
    "print(my_friends.symmetric_difference(friends))\n",
    "print(my_friends ^ friends)"
   ]
  },
  {
   "cell_type": "code",
   "execution_count": 24,
   "metadata": {},
   "outputs": [
    {
     "name": "stdout",
     "output_type": "stream",
     "text": [
      "['328', '900', 'V90', 'S', 'V70', '911', '420', '996']\n"
     ]
    }
   ],
   "source": [
    "#6\n",
    "cars_no_dupl = list(set(cars))\n",
    "print(cars_no_dupl)"
   ]
  },
  {
   "cell_type": "code",
   "execution_count": 25,
   "metadata": {},
   "outputs": [
    {
     "data": {
      "text/plain": [
       "{' ', 'H', 'a', 'd', 'l', 'o', 's', 't'}"
      ]
     },
     "execution_count": 25,
     "metadata": {},
     "output_type": "execute_result"
    }
   ],
   "source": [
    "set('Hola a todos')"
   ]
  },
  {
   "cell_type": "code",
   "execution_count": 31,
   "metadata": {},
   "outputs": [],
   "source": [
    "# FUNCIONES\n",
    "\n",
    "def greeting():\n",
    "  print(\"Hello Friend!\")\n"
   ]
  },
  {
   "cell_type": "code",
   "execution_count": 32,
   "metadata": {},
   "outputs": [
    {
     "name": "stdout",
     "output_type": "stream",
     "text": [
      "Hello Friend!\n"
     ]
    }
   ],
   "source": [
    "greeting()"
   ]
  },
  {
   "cell_type": "code",
   "execution_count": 39,
   "metadata": {},
   "outputs": [],
   "source": [
    "def greeting(name,age):\n",
    "  print(\"Hello \" + name + \", you are \" + age + \"!\")\n",
    "  print(f\"Hello {name}, you are {age}!\")"
   ]
  },
  {
   "cell_type": "code",
   "execution_count": 41,
   "metadata": {},
   "outputs": [
    {
     "name": "stdout",
     "output_type": "stream",
     "text": [
      "Hello Brian, you are 42!\n",
      "Hello Brian, you are 42!\n"
     ]
    }
   ],
   "source": [
    "greeting(\"Brian\",\"42\")"
   ]
  },
  {
   "cell_type": "code",
   "execution_count": 42,
   "metadata": {},
   "outputs": [
    {
     "name": "stdout",
     "output_type": "stream",
     "text": [
      "Hello Brian, you are 32!\n",
      "Hello Brian, you are 32!\n",
      "Hello Judith, you are 28!\n",
      "Hello Judith, you are 28!\n"
     ]
    }
   ],
   "source": [
    "def greeting(name,age=\"28\"):\n",
    "  print(\"Hello \" + name + \", you are \" + age + \"!\")\n",
    "  print(f\"Hello {name}, you are {age}!\")\n",
    "    \n",
    "greeting(\"Brian\",\"32\")\n",
    "greeting(\"Judith\")"
   ]
  },
  {
   "cell_type": "code",
   "execution_count": 43,
   "metadata": {},
   "outputs": [
    {
     "name": "stdout",
     "output_type": "stream",
     "text": [
      "False\n",
      "True\n",
      "True\n",
      "True\n",
      "True\n",
      "False\n"
     ]
    }
   ],
   "source": [
    "# OPERADORES BOOLEANOS\n",
    "\n",
    "a = 7\n",
    "b = 3\n",
    "print(a == b)\n",
    "print(a != b)\n",
    "print(a > b)\n",
    "print(a >= b)\n",
    "print('u' in 'Juan')\n",
    "print('u' not in 'Juan')"
   ]
  },
  {
   "cell_type": "code",
   "execution_count": 45,
   "metadata": {},
   "outputs": [
    {
     "name": "stdout",
     "output_type": "stream",
     "text": [
      "0\n",
      "1\n",
      "False\n",
      "True\n",
      "False\n",
      "True\n",
      "42\n",
      "True\n",
      "True\n",
      "2199288014720 2199288014720\n"
     ]
    }
   ],
   "source": [
    "print(int(False))\n",
    "print(int(True))\n",
    "\n",
    "print(bool([]))\n",
    "print(bool([1,2,3]))\n",
    "\n",
    "print(bool(''))\n",
    "print(bool('algo'))\n",
    "\n",
    "print(42 + False)\n",
    "\n",
    "\n"
   ]
  },
  {
   "cell_type": "code",
   "execution_count": 50,
   "metadata": {},
   "outputs": [
    {
     "name": "stdout",
     "output_type": "stream",
     "text": [
      "True\n",
      "False\n",
      "2199288022016 2199288013312\n"
     ]
    }
   ],
   "source": [
    "a = [3,7,42]\n",
    "b = a.copy()\n",
    "print(a == b)\n",
    "print(a is b)\n",
    "print(id(a), id(b)) #va a dar el mismo apuntador"
   ]
  },
  {
   "cell_type": "code",
   "execution_count": 51,
   "metadata": {},
   "outputs": [
    {
     "name": "stdout",
     "output_type": "stream",
     "text": [
      "a == b is False\n",
      "a != b is True\n",
      "a > b is True\n",
      "a < b is False\n",
      "a >= b is True\n",
      "a <= b is False\n",
      "o in John is  True\n",
      "o in John is  False\n",
      "John is John  True\n",
      "John is not John is  False\n"
     ]
    },
    {
     "name": "stderr",
     "output_type": "stream",
     "text": [
      "<>:11: SyntaxWarning: \"is\" with a literal. Did you mean \"==\"?\n",
      "<>:12: SyntaxWarning: \"is not\" with a literal. Did you mean \"!=\"?\n",
      "<>:11: SyntaxWarning: \"is\" with a literal. Did you mean \"==\"?\n",
      "<>:12: SyntaxWarning: \"is not\" with a literal. Did you mean \"!=\"?\n",
      "C:\\Users\\paxonian\\AppData\\Local\\Temp\\ipykernel_9324\\2760185915.py:11: SyntaxWarning: \"is\" with a literal. Did you mean \"==\"?\n",
      "  print('John is John ','John' is 'John') #identity\n",
      "C:\\Users\\paxonian\\AppData\\Local\\Temp\\ipykernel_9324\\2760185915.py:12: SyntaxWarning: \"is not\" with a literal. Did you mean \"!=\"?\n",
      "  print('John is not John is ','John' is not 'John') # negative identity\n"
     ]
    }
   ],
   "source": [
    "a=7\n",
    "b=3\n",
    "print('a == b is', a == b)\n",
    "print('a != b is', a != b)\n",
    "print('a > b is', a > b)\n",
    "print('a < b is', a < b)\n",
    "print('a >= b is', a >= b)\n",
    "print('a <= b is', a <= b)\n",
    "print('o in John is ','o' in 'John') #membership\n",
    "print('o in John is ','o' not in 'John') #non membership\n",
    "print('John is John ','John' is 'John') #identity\n",
    "print('John is not John is ','John' is not 'John') # negative identity"
   ]
  },
  {
   "cell_type": "code",
   "execution_count": 54,
   "metadata": {},
   "outputs": [
    {
     "name": "stdout",
     "output_type": "stream",
     "text": [
      "Good Morning\n",
      "Umbrella is optional\n"
     ]
    }
   ],
   "source": [
    "# CONDICIONALES\n",
    "\n",
    "is_raining = False\n",
    "is_cold = False\n",
    "\n",
    "print(\"Good Morning\")\n",
    "\n",
    "if is_raining or is_cold:\n",
    "  print(\"Bring Umbrella or jacket or both\")\n",
    "else:\n",
    "  print(\"Umbrella is optional\")"
   ]
  },
  {
   "cell_type": "code",
   "execution_count": 61,
   "metadata": {},
   "outputs": [
    {
     "name": "stdout",
     "output_type": "stream",
     "text": [
      "Good Morning\n",
      "Umbrella is optional\n"
     ]
    }
   ],
   "source": [
    "    \n",
    "is_raining = False\n",
    "is_cold = False\n",
    "\n",
    "print(\"Good Morning\")\n",
    "\n",
    "if is_raining and is_cold:\n",
    "  print(\"Bring Umbrella and jacket\")\n",
    "elif is_raining and not(is_cold): # Esta lloviendo y no esta haciendo frío???\n",
    "  print(\"Bring Umbrella\")\n",
    "elif not(is_raining) and is_cold: # No esta lloviendo y está haciendo frío???\n",
    "  print(\"Bring Jacket\")\n",
    "else:\n",
    "  print(\"Umbrella is optional\")"
   ]
  },
  {
   "cell_type": "code",
   "execution_count": 64,
   "metadata": {},
   "outputs": [],
   "source": [
    "if True:\n",
    "  pass"
   ]
  },
  {
   "cell_type": "code",
   "execution_count": 1,
   "metadata": {},
   "outputs": [
    {
     "name": "stdout",
     "output_type": "stream",
     "text": [
      "1.*Loops are great*\n",
      "2.**Loops are great**\n",
      "3.***Loops are great***\n",
      "4.****Loops are great****\n",
      "5.*****Loops are great*****\n"
     ]
    }
   ],
   "source": [
    "# WHILE LOOPS\n",
    "\n",
    "print(\"1.*Loops are great*\")\n",
    "print(\"2.**Loops are great**\")\n",
    "print(\"3.***Loops are great***\")\n",
    "print(\"4.****Loops are great****\")\n",
    "print(\"5.*****Loops are great*****\")"
   ]
  },
  {
   "cell_type": "code",
   "execution_count": 2,
   "metadata": {},
   "outputs": [
    {
     "name": "stdout",
     "output_type": "stream",
     "text": [
      "1.*Loops are awesome*\n",
      "2.**Loops are awesome**\n",
      "3.***Loops are awesome***\n",
      "4.****Loops are awesome****\n",
      "5.*****Loops are awesome*****\n"
     ]
    }
   ],
   "source": [
    "i = 0\n",
    "while i < 5:\n",
    "  i=i+1 # i+=1\n",
    "  print(f\"{i}.\"+ \"*\"*i + \"Loops are awesome\" + \"*\"*i)"
   ]
  },
  {
   "cell_type": "code",
   "execution_count": 3,
   "metadata": {},
   "outputs": [
    {
     "name": "stdout",
     "output_type": "stream",
     "text": [
      "N\n",
      "o\n",
      "r\n",
      "w\n",
      "e\n",
      "g\n",
      "i\n",
      "a\n",
      "n\n",
      " \n",
      "b\n",
      "l\n",
      "u\n",
      "e\n"
     ]
    }
   ],
   "source": [
    "# FOR LOOPS\n",
    "\n",
    "for l in 'Norwegian blue':\n",
    "  print(l)\n"
   ]
  },
  {
   "cell_type": "code",
   "execution_count": 5,
   "metadata": {},
   "outputs": [
    {
     "name": "stdout",
     "output_type": "stream",
     "text": [
      "0\n",
      "1\n",
      "2\n",
      "3\n",
      "4\n",
      "5\n",
      "6\n",
      "7\n"
     ]
    }
   ],
   "source": [
    "for _ in range(8):\n",
    "  print(_)\n"
   ]
  },
  {
   "cell_type": "code",
   "execution_count": 6,
   "metadata": {},
   "outputs": [
    {
     "name": "stdout",
     "output_type": "stream",
     "text": [
      "2\n",
      "3\n",
      "4\n",
      "5\n",
      "6\n",
      "7\n"
     ]
    }
   ],
   "source": [
    "for _ in range(2,8):\n",
    "  print(_)\n"
   ]
  },
  {
   "cell_type": "code",
   "execution_count": 7,
   "metadata": {},
   "outputs": [
    {
     "name": "stdout",
     "output_type": "stream",
     "text": [
      "1\n",
      "4\n",
      "7\n",
      "10\n",
      "13\n"
     ]
    }
   ],
   "source": [
    "for n in range(1,15,3):\n",
    "  print(n)\n"
   ]
  },
  {
   "cell_type": "code",
   "execution_count": 8,
   "metadata": {},
   "outputs": [
    {
     "name": "stdout",
     "output_type": "stream",
     "text": [
      "John\n",
      "Terry\n",
      "Eric\n",
      "Michael\n",
      "George\n"
     ]
    }
   ],
   "source": [
    "friends = ['John','Terry','Eric','Michael','George']\n",
    "for friend in friends:\n",
    "  print(friend)\n"
   ]
  },
  {
   "cell_type": "code",
   "execution_count": 24,
   "metadata": {},
   "outputs": [
    {
     "name": "stdout",
     "output_type": "stream",
     "text": [
      "G\n",
      "e\n",
      "o\n",
      "r\n",
      "g\n"
     ]
    }
   ],
   "source": [
    "for index in range(len(friends)):\n",
    "  print(friend[index])\n"
   ]
  },
  {
   "cell_type": "code",
   "execution_count": 26,
   "metadata": {},
   "outputs": [
    {
     "name": "stdout",
     "output_type": "stream",
     "text": [
      "Found Eric!\n"
     ]
    }
   ],
   "source": [
    "for friend in friends:\n",
    "  if friend == 'Eric':\n",
    "    print('Found ' + friend + '!')\n",
    "   \n",
    "  print(friend)"
   ]
  },
  {
   "cell_type": "code",
   "execution_count": 31,
   "metadata": {},
   "outputs": [
    {
     "name": "stdout",
     "output_type": "stream",
     "text": [
      "python101 - Enumerate\n"
     ]
    }
   ],
   "source": [
    "# ENUMERATE\n",
    "\n",
    "print('python101 - Enumerate')\n",
    "friends = ['Brian', 'Judith', 'Reg', 'Loretta', 'Colin']"
   ]
  },
  {
   "cell_type": "code",
   "execution_count": 33,
   "metadata": {},
   "outputs": [
    {
     "name": "stdout",
     "output_type": "stream",
     "text": [
      "1 Brian\n",
      "2 Judith\n",
      "3 Reg\n",
      "4 Loretta\n",
      "5 Colin\n"
     ]
    }
   ],
   "source": [
    "# Imprima una lista con número y nombre empezando por 1\n",
    "\n",
    "i = 1\n",
    "for friend in friends:\n",
    "  print(i, friend)\n",
    "  i += 1\n"
   ]
  },
  {
   "cell_type": "code",
   "execution_count": 35,
   "metadata": {},
   "outputs": [
    {
     "name": "stdout",
     "output_type": "stream",
     "text": [
      "10 Brian\n",
      "11 Judith\n",
      "12 Reg\n",
      "13 Loretta\n",
      "14 Colin\n"
     ]
    }
   ],
   "source": [
    "    \n",
    "for num, friend in enumerate(friends,10):\n",
    "  print(num, friend)\n"
   ]
  },
  {
   "cell_type": "code",
   "execution_count": 40,
   "metadata": {},
   "outputs": [
    {
     "data": {
      "text/plain": [
       "[(2, 'Brian'), (3, 'Judith'), (4, 'Reg'), (5, 'Loretta'), (6, 'Colin')]"
      ]
     },
     "execution_count": 40,
     "metadata": {},
     "output_type": "execute_result"
    }
   ],
   "source": [
    "list(enumerate(friends,2))"
   ]
  },
  {
   "cell_type": "code",
   "execution_count": 41,
   "metadata": {},
   "outputs": [
    {
     "name": "stdout",
     "output_type": "stream",
     "text": [
      "<class 'enumerate'>\n",
      "[(5, 'Brian'), (6, 'Judith'), (7, 'Reg'), (8, 'Loretta'), (9, 'Colin')]\n"
     ]
    }
   ],
   "source": [
    "print(type(enumerate(friends)))\n",
    "print(list(enumerate(friends, start = 5)))"
   ]
  },
  {
   "cell_type": "code",
   "execution_count": 66,
   "metadata": {},
   "outputs": [],
   "source": [
    "# Diccionarios\n",
    "\n",
    "movie = {\n",
    "    'title' : 'Life of Brian',\n",
    "    'year' : 1979,\n",
    "    'cast' : ['John','Eric','Michael','George','Terry']\n",
    "}\n",
    "\n",
    "# Diccionarios no son JSON\n"
   ]
  },
  {
   "cell_type": "code",
   "execution_count": 43,
   "metadata": {},
   "outputs": [
    {
     "name": "stdout",
     "output_type": "stream",
     "text": [
      "{'title': 'Life of Brian', 'year': 1979, 'cast': ['John', 'Eric', 'Michael', 'George', 'Terry']}\n",
      "3\n",
      "dict_keys(['title', 'year', 'cast'])\n",
      "dict_values(['Life of Brian', 1979, ['John', 'Eric', 'Michael', 'George', 'Terry']])\n",
      "dict_items([('title', 'Life of Brian'), ('year', 1979), ('cast', ['John', 'Eric', 'Michael', 'George', 'Terry'])])\n"
     ]
    }
   ],
   "source": [
    "\n",
    "print(movie)\n",
    "print(len(movie))\n",
    "print(movie.keys())\n",
    "print(movie.values())\n",
    "print(movie.items())\n"
   ]
  },
  {
   "cell_type": "code",
   "execution_count": 47,
   "metadata": {},
   "outputs": [
    {
     "name": "stdout",
     "output_type": "stream",
     "text": [
      "title\n",
      "year\n",
      "cast\n"
     ]
    }
   ],
   "source": [
    "\n",
    "for i in movie:\n",
    "  print(i)\n"
   ]
  },
  {
   "cell_type": "code",
   "execution_count": 51,
   "metadata": {},
   "outputs": [
    {
     "name": "stdout",
     "output_type": "stream",
     "text": [
      "Life of Brian\n",
      "1979\n",
      "['John', 'Eric', 'Michael', 'George', 'Terry']\n"
     ]
    }
   ],
   "source": [
    "\n",
    "for k, v in movie.items():\n",
    "  print(k,v)"
   ]
  },
  {
   "cell_type": "code",
   "execution_count": 52,
   "metadata": {},
   "outputs": [
    {
     "name": "stdout",
     "output_type": "stream",
     "text": [
      "Life of Brian\n",
      "1979\n",
      "['John', 'Eric', 'Michael', 'George', 'Terry']\n"
     ]
    }
   ],
   "source": [
    "\n",
    "for k in movie:\n",
    "  print(movie[k])"
   ]
  },
  {
   "cell_type": "code",
   "execution_count": 53,
   "metadata": {},
   "outputs": [
    {
     "name": "stdout",
     "output_type": "stream",
     "text": [
      "Life of Brian\n"
     ]
    }
   ],
   "source": [
    "print(movie['title'])"
   ]
  },
  {
   "cell_type": "code",
   "execution_count": 55,
   "metadata": {},
   "outputs": [
    {
     "name": "stdout",
     "output_type": "stream",
     "text": [
      "None\n",
      "No hay budget\n"
     ]
    }
   ],
   "source": [
    "\n",
    "# como buscar por key\n",
    "print(movie.get('budget')) #None\n",
    "print(movie.get('budget','No hay budget')) # \"No hay budget\"\n"
   ]
  },
  {
   "cell_type": "code",
   "execution_count": 56,
   "metadata": {},
   "outputs": [
    {
     "name": "stdout",
     "output_type": "stream",
     "text": [
      "The Holy Grail\n"
     ]
    }
   ],
   "source": [
    "# Editar el diccionario\n",
    "\n",
    "movie['title'] = 'The Holy Grail'\n",
    "print(movie.get('title'))\n"
   ]
  },
  {
   "cell_type": "code",
   "execution_count": 59,
   "metadata": {},
   "outputs": [
    {
     "name": "stdout",
     "output_type": "stream",
     "text": [
      "250000\n",
      "{'title': 'The Holy Grail', 'year': 1979, 'cast': ['John', 'Eric', 'Michael', 'George', 'Terry'], 'budget': 250000}\n"
     ]
    }
   ],
   "source": [
    "movie['budget'] = 250000\n",
    "print(movie.get('budget','No hay budget'))\n",
    "print(movie)"
   ]
  },
  {
   "cell_type": "code",
   "execution_count": 61,
   "metadata": {},
   "outputs": [
    {
     "name": "stdout",
     "output_type": "stream",
     "text": [
      "{'title': 'The Holy Grail', 'year': 1975, 'cast': ['John', 'Eric', 'Michael', 'George', 'Terry'], 'budget': 250000}\n"
     ]
    }
   ],
   "source": [
    "\n",
    "movie.update({'title' : 'The Holy Grail','year':1975,'cast':['John','Eric','Michael','George','Terry']})\n",
    "\n",
    "print(movie)\n"
   ]
  },
  {
   "cell_type": "code",
   "execution_count": 62,
   "metadata": {},
   "outputs": [
    {
     "name": "stdout",
     "output_type": "stream",
     "text": [
      "{'title': 'The Holy Grail', 'cast': ['John', 'Eric', 'Michael', 'George', 'Terry'], 'budget': 250000}\n"
     ]
    }
   ],
   "source": [
    "del movie['year']\n",
    "print(movie)"
   ]
  },
  {
   "cell_type": "code",
   "execution_count": 67,
   "metadata": {},
   "outputs": [
    {
     "name": "stdout",
     "output_type": "stream",
     "text": [
      "['John', 'Eric', 'Michael', 'George', 'Terry']\n",
      "{'title': 'Life of Brian', 'year': 1979}\n"
     ]
    }
   ],
   "source": [
    "year = movie.pop('cast')\n",
    "\n",
    "print(year)\n",
    "print(movie)\n"
   ]
  },
  {
   "cell_type": "code",
   "execution_count": 68,
   "metadata": {},
   "outputs": [],
   "source": [
    "# Diccionarios 2\n",
    "\n",
    "python = {'John':35,'Eric':36,'Michael':35,'Terry':38,'Graham':37,'TerryG':34}\n",
    "holy_grail = {'Arthur':40,'Galahad':35,'Lancelot':39,'Knight of NI':40, 'Zoot':17}\n",
    "life_of_brian = {'Brian':33,'Reg':35,'Stan/Loretta':32,'Biccus Diccus':45}\n"
   ]
  },
  {
   "cell_type": "code",
   "execution_count": 69,
   "metadata": {},
   "outputs": [
    {
     "name": "stdout",
     "output_type": "stream",
     "text": [
      "True\n"
     ]
    }
   ],
   "source": [
    "\n",
    "# membership test\n",
    "print('Arthur' in holy_grail)\n"
   ]
  },
  {
   "cell_type": "code",
   "execution_count": 70,
   "metadata": {},
   "outputs": [],
   "source": [
    "\n",
    "people = {}\n",
    "\n",
    "#method 1 update\n",
    "people.update(python)\n",
    "people.update(holy_grail)\n",
    "people.update(life_of_brian)\n"
   ]
  },
  {
   "cell_type": "code",
   "execution_count": 71,
   "metadata": {},
   "outputs": [
    {
     "name": "stdout",
     "output_type": "stream",
     "text": [
      "{'John': 35, 'Eric': 36, 'Michael': 35, 'Terry': 38, 'Graham': 37, 'TerryG': 34, 'Arthur': 40, 'Galahad': 35, 'Lancelot': 39, 'Knight of NI': 40, 'Zoot': 17, 'Brian': 33, 'Reg': 35, 'Stan/Loretta': 32, 'Biccus Diccus': 45}\n"
     ]
    }
   ],
   "source": [
    "print(people)"
   ]
  },
  {
   "cell_type": "code",
   "execution_count": 72,
   "metadata": {},
   "outputs": [],
   "source": [
    "people1 = {}\n",
    "people2 = {}\n"
   ]
  },
  {
   "cell_type": "code",
   "execution_count": 75,
   "metadata": {},
   "outputs": [
    {
     "name": "stdout",
     "output_type": "stream",
     "text": [
      "{'John': 35, 'Eric': 36, 'Michael': 35, 'Terry': 38, 'Graham': 37, 'TerryG': 34, 'Arthur': 40, 'Galahad': 35, 'Lancelot': 39, 'Knight of NI': 40, 'Zoot': 17, 'Brian': 33, 'Reg': 35, 'Stan/Loretta': 32, 'Biccus Diccus': 45}\n"
     ]
    }
   ],
   "source": [
    "#method 2 comprehension\n",
    "for groups in (python, holy_grail, life_of_brian):\n",
    "  people1.update(groups)\n",
    "\n",
    "\n",
    "print(people1)\n"
   ]
  },
  {
   "cell_type": "code",
   "execution_count": 77,
   "metadata": {},
   "outputs": [
    {
     "name": "stdout",
     "output_type": "stream",
     "text": [
      "{'John': 35, 'Eric': 36, 'Michael': 35, 'Terry': 38, 'Graham': 37, 'TerryG': 34, 'Arthur': 40, 'Galahad': 35, 'Lancelot': 39, 'Knight of NI': 40, 'Zoot': 17, 'Brian': 33, 'Reg': 35, 'Stan/Loretta': 32, 'Biccus Diccus': 45}\n",
      "The sum of the ages:  531\n"
     ]
    }
   ],
   "source": [
    "#method 3 unpacking 3.5 later\n",
    "people2 = {**python,**holy_grail,**life_of_brian}\n",
    "print(people2)\n",
    "\n",
    "print('The sum of the ages: ', sum(people2.values()))"
   ]
  },
  {
   "cell_type": "code",
   "execution_count": 85,
   "metadata": {},
   "outputs": [
    {
     "name": "stdout",
     "output_type": "stream",
     "text": [
      "Hello,\n",
      "Welcome to Monty Pythons Flying Circus!\n",
      "\n"
     ]
    }
   ],
   "source": [
    "my_file = open('greeting.txt','r') # r for reading, w for write, a for append\n",
    "print(my_file.read())\n",
    "print(my_file.read(10))\n",
    "# ALWAYS CLOSE THE FILE\n",
    "my_file.close()"
   ]
  },
  {
   "cell_type": "code",
   "execution_count": 86,
   "metadata": {},
   "outputs": [
    {
     "name": "stdout",
     "output_type": "stream",
     "text": [
      "Hello,\n",
      "\n",
      "Welcome to Monty Pythons Flying Circus!\n"
     ]
    }
   ],
   "source": [
    "my_file = open('greeting.txt','r')\n",
    "print(my_file.readline())\n",
    "print(my_file.readline())\n",
    "my_file.close()"
   ]
  },
  {
   "cell_type": "code",
   "execution_count": 91,
   "metadata": {},
   "outputs": [
    {
     "name": "stdout",
     "output_type": "stream",
     "text": [
      "readlines:  ['Hello,\\n', 'Welcome to Monty Pythons Flying Circus!']\n"
     ]
    }
   ],
   "source": [
    "\n",
    "my_file = open('greeting.txt','r')\n",
    "line_by_line = my_file.readlines()\n",
    "\n",
    "print('readlines: ',line_by_line)\n",
    "\n",
    "# ALWAYS CLOSE THE FILE\n",
    "my_file.close()"
   ]
  },
  {
   "cell_type": "code",
   "execution_count": 90,
   "metadata": {},
   "outputs": [
    {
     "name": "stdout",
     "output_type": "stream",
     "text": [
      "splitlines:  ['Hello,', 'Welcome to Monty Pythons Flying Circus!']\n"
     ]
    }
   ],
   "source": [
    "my_file = open('greeting.txt','r')\n",
    "line_by_line1 = my_file.read().splitlines()\n",
    "print('splitlines: ',line_by_line1)\n",
    "\n",
    "# ALWAYS CLOSE THE FILE\n",
    "my_file.close()"
   ]
  },
  {
   "cell_type": "code",
   "execution_count": 96,
   "metadata": {},
   "outputs": [
    {
     "name": "stdout",
     "output_type": "stream",
     "text": [
      "['John, 1939', 'Eric, 1943', 'Michael, 1943', 'Graham, 1941', 'TerryG, 1940', 'TerryJ, 1942']\n"
     ]
    }
   ],
   "source": [
    "# Otro Método: Context Manager\n",
    "with open('friends.csv','r') as archivo:\n",
    "  # print(archivo.read())\n",
    "  friends = archivo.read().splitlines()\n",
    "  print(friends)"
   ]
  },
  {
   "cell_type": "code",
   "execution_count": 95,
   "metadata": {},
   "outputs": [
    {
     "data": {
      "text/plain": [
       "_io.TextIOWrapper"
      ]
     },
     "execution_count": 95,
     "metadata": {},
     "output_type": "execute_result"
    }
   ],
   "source": [
    "type(archivo)"
   ]
  },
  {
   "cell_type": "code",
   "execution_count": 102,
   "metadata": {},
   "outputs": [
    {
     "name": "stdout",
     "output_type": "stream",
     "text": [
      "['John, 1939', 'Eric, 1943', 'Michael, 1943', 'Graham, 1941', 'TerryG, 1940', 'TerryJ, 1942']\n",
      "In 2030 John will be 91 years old\n",
      "In 2030 Eric will be 87 years old\n",
      "In 2030 Michael will be 87 years old\n",
      "In 2030 Graham will be 89 years old\n",
      "In 2030 TerryG will be 90 years old\n",
      "In 2030 TerryJ will be 88 years old\n"
     ]
    }
   ],
   "source": [
    "with open('friends.csv','r') as f:\n",
    "  # print(f.read())\n",
    "  friends = f.read().splitlines()\n",
    "  print(friends)\n",
    "\n",
    "  for friend in friends:\n",
    "    #friend = friend.split(',')\n",
    "    #name = friend[0]\n",
    "    #year = int(friend[1].strip())\n",
    "    name, year = friend.split(',')\n",
    "    print(f'In 2030 {name} will be {2030 -int(year)} years old')"
   ]
  },
  {
   "cell_type": "code",
   "execution_count": 105,
   "metadata": {},
   "outputs": [
    {
     "name": "stdout",
     "output_type": "stream",
     "text": [
      "Holy Grail, 1975\n",
      "\n",
      "Life of Brian, 1979\n",
      "\n",
      "Meaning of Life, 1983\n"
     ]
    }
   ],
   "source": [
    "# Más Fácil\n",
    "with open('movies.txt','r') as f:\n",
    "  for line in f:\n",
    "    print(line)\n",
    "        \n",
    "# Si el archivo no existe, python va a arrojar un error. Estos errores pueden manejarse \n",
    "# con manejo de excepciones"
   ]
  },
  {
   "cell_type": "code",
   "execution_count": 106,
   "metadata": {},
   "outputs": [],
   "source": [
    "# Escribir en un archivo\n",
    "presidentes = ['ppk','vizcarra','merino','mercedes','sagasti','castillo']"
   ]
  },
  {
   "cell_type": "code",
   "execution_count": 111,
   "metadata": {},
   "outputs": [],
   "source": [
    "with open('presidentes.csv','a') as arc:\n",
    "  for p in presidentes:\n",
    "    arc.writelines(p+'\\n')"
   ]
  },
  {
   "cell_type": "code",
   "execution_count": null,
   "metadata": {},
   "outputs": [],
   "source": [
    "#---------------------------------\n",
    "# Excepciones\n",
    "\n",
    "\n",
    "#try:\n",
    "    #code you want to run\n",
    "#except:\n",
    "    #executed if error occurs\n",
    "#else:\n",
    "    #executed if no error\n",
    "#finally:\n",
    "    #always executed"
   ]
  },
  {
   "cell_type": "code",
   "execution_count": 118,
   "metadata": {},
   "outputs": [
    {
     "name": "stdout",
     "output_type": "stream",
     "text": [
      "0.5\n"
     ]
    }
   ],
   "source": [
    "num = float(input('Dime un número: '))\n",
    "try:\n",
    "  print(1/num)\n",
    "except:\n",
    "  print('Tal vez colocaste cero??')"
   ]
  },
  {
   "cell_type": "code",
   "execution_count": 134,
   "metadata": {},
   "outputs": [
    {
     "name": "stdout",
     "output_type": "stream",
     "text": [
      "Su número es 31 Valor equivocado menor a 1 o mayor a 30\n",
      "++ Buen día ++\n"
     ]
    }
   ],
   "source": [
    "# Juego\n",
    "\n",
    "try:\n",
    "  num = int(input('Introduzca un número entre 1 y 30: '))\n",
    "  _ = 30/num # _ es una variable auxiliar\n",
    "  if num > 30 or num < 1:\n",
    "    raise ValueError(num)\n",
    "\n",
    "except ZeroDivisionError as e:\n",
    "  print(e, 'No puede dividir por cero!')\n",
    "\n",
    "except ValueError as err:\n",
    "  print('Su número es '+ str(err),'Valor equivocado menor a 1 o mayor a 30') # falla con letras\n",
    "\n",
    "except:\n",
    "  print(\"Input inválido!\") # falla con cero\n",
    "\n",
    "else:\n",
    "  print(\"30 dividido por\",num, \"es: \", 30/num)\n",
    "  \n",
    "finally:\n",
    "  print(\"++ Buen día ++\")"
   ]
  },
  {
   "cell_type": "code",
   "execution_count": 141,
   "metadata": {},
   "outputs": [
    {
     "name": "stdout",
     "output_type": "stream",
     "text": [
      "Life of Brian 8.1\n"
     ]
    }
   ],
   "source": [
    "# Clases y Objetos\n",
    "\n",
    "#Classes are blueprints\n",
    "#Objects are the actual things you built\n",
    "#variables => attributes\n",
    "#functions => methods\n",
    "\n",
    "class Movie:\n",
    "  def __init__(self,title,year,imdb_score,have_seen): #constructor de la clase (inicializador)\n",
    "    self.title = title\n",
    "    self.year = year\n",
    "    self.imdb_score = imdb_score\n",
    "    self.have_seen = have_seen\n",
    "\n",
    "  def nice_print(self):\n",
    "    print(\"Title: \", self.title)\n",
    "    print(\"Year of production: \", self.year)\n",
    "    print(\"IMDB Score: \", self.imdb_score)\n",
    "    print(\"I have seen it: \", self.have_seen)\n",
    "        \n",
    "film_1 = Movie(\"Life of Brian\",1979,8.1,True)\n",
    "film_2 = Movie(\"The Holy Grail\",1975,8.2,False)\n",
    "\n",
    "print(film_1.title, film_1.imdb_score)"
   ]
  },
  {
   "cell_type": "code",
   "execution_count": 139,
   "metadata": {},
   "outputs": [],
   "source": [
    "film_2.have_seen=True"
   ]
  },
  {
   "cell_type": "code",
   "execution_count": 142,
   "metadata": {},
   "outputs": [
    {
     "name": "stdout",
     "output_type": "stream",
     "text": [
      "Title:  The Holy Grail\n",
      "Year of production:  1975\n",
      "IMDB Score:  8.2\n",
      "I have seen it:  False\n"
     ]
    }
   ],
   "source": [
    "film_2.nice_print()"
   ]
  },
  {
   "cell_type": "code",
   "execution_count": 149,
   "metadata": {},
   "outputs": [],
   "source": [
    "# Herencia\n",
    "# Class Inheritance\n",
    "\n",
    "class Person:\n",
    "    def move(self):\n",
    "        print(\"Moves 4 paces\")\n",
    "    def rest(self):\n",
    "        print(\"Gains 4 health points\")\n"
   ]
  },
  {
   "cell_type": "code",
   "execution_count": 150,
   "metadata": {},
   "outputs": [
    {
     "name": "stdout",
     "output_type": "stream",
     "text": [
      "Moves 4 paces\n"
     ]
    }
   ],
   "source": [
    "\n",
    "character1=Person()\n",
    "character1.move()\n"
   ]
  },
  {
   "cell_type": "code",
   "execution_count": 151,
   "metadata": {},
   "outputs": [
    {
     "name": "stdout",
     "output_type": "stream",
     "text": [
      "Heals 10 health points\n"
     ]
    }
   ],
   "source": [
    "\n",
    "class Doctor(Person):\n",
    "    def heal(self):\n",
    "        print(\"Heals 10 health points\")\n",
    "        \n",
    "character1=Doctor()\n",
    "character1.heal()\n"
   ]
  },
  {
   "cell_type": "code",
   "execution_count": 154,
   "metadata": {},
   "outputs": [
    {
     "name": "stdout",
     "output_type": "stream",
     "text": [
      "Do 10 health points of damage\n",
      "Moves 6 paces\n"
     ]
    }
   ],
   "source": [
    "\n",
    "class Fighter(Person):\n",
    "    def fight(self):\n",
    "        print(\"Do 10 health points of damage\")\n",
    "    def move(self):\n",
    "        print(\"Moves 6 paces\")\n",
    "\n",
    "\n",
    "character1=Fighter()\n",
    "character1.fight()\n",
    "character1.move()\n"
   ]
  },
  {
   "cell_type": "code",
   "execution_count": 157,
   "metadata": {},
   "outputs": [
    {
     "name": "stdout",
     "output_type": "stream",
     "text": [
      "Heals 15 health points\n",
      "Moves 6 paces\n"
     ]
    }
   ],
   "source": [
    "\n",
    "class Wizard(Doctor,Fighter):\n",
    "    def cast_spell(self):\n",
    "        print(\"Turns invisble\")\n",
    "    def heal(self):\n",
    "        print(\"Heals 15 health points\")\n",
    "\n",
    "character1=Wizard()\n",
    "character1.heal()\n",
    "character1.move() #se mueve 6 pasos"
   ]
  },
  {
   "cell_type": "code",
   "execution_count": null,
   "metadata": {},
   "outputs": [],
   "source": []
  }
 ],
 "metadata": {
  "interpreter": {
   "hash": "efd962336dd54454d7a208cae467b5158154cffc312a7f08d9fd755854b50aaa"
  },
  "kernelspec": {
   "display_name": "Python 3.10.1 ('.venv': venv)",
   "language": "python",
   "name": "python3"
  },
  "language_info": {
   "codemirror_mode": {
    "name": "ipython",
    "version": 3
   },
   "file_extension": ".py",
   "mimetype": "text/x-python",
   "name": "python",
   "nbconvert_exporter": "python",
   "pygments_lexer": "ipython3",
   "version": "3.10.1"
  },
  "orig_nbformat": 4
 },
 "nbformat": 4,
 "nbformat_minor": 2
}

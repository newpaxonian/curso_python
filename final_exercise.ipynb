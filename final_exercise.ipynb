{
 "cells": [
  {
   "cell_type": "code",
   "execution_count": 1,
   "metadata": {},
   "outputs": [],
   "source": [
    "import pandas as pd\n",
    "from sqlalchemy import create_engine\n",
    "from sqlalchemy.sql import text"
   ]
  },
  {
   "cell_type": "code",
   "execution_count": 2,
   "metadata": {},
   "outputs": [],
   "source": [
    "Q_CARDS = '''\n",
    "CREATE TABLE \"cards\" (\n",
    "\t\"id\"\tINTEGER NOT NULL UNIQUE,\n",
    "\t\"client_id\"\tINTEGER NOT NULL,\n",
    "\t\"card_number\"\tTEXT NOT NULL,\n",
    "\t\"card_type\"\tTEXT NOT NULL,\n",
    "\t\"issue_date\"\tTEXT NOT NULL,\n",
    "\t\"expiration_date\"\tTEXT NOT NULL,\n",
    "\tPRIMARY KEY(\"id\" AUTOINCREMENT),\n",
    "\tCONSTRAINT \"clients_pk\" FOREIGN KEY(\"client_id\") REFERENCES \"clients\"(\"id\")\n",
    ");\n",
    "'''"
   ]
  },
  {
   "cell_type": "code",
   "execution_count": 3,
   "metadata": {},
   "outputs": [],
   "source": [
    "Q_CLIENTS = '''\n",
    "CREATE TABLE \"clients\" (\n",
    "\t\"id\"\tINTEGER NOT NULL UNIQUE,\n",
    "\t\"first_name\"\tTEXT NOT NULL,\n",
    "\t\"last_name\"\tTEXT NOT NULL,\n",
    "\t\"email\"\tTEXT NOT NULL,\n",
    "\t\"phone\"\tTEXT NOT NULL,\n",
    "\t\"date_of_birth\"\tTEXT NOT NULL,\n",
    "\t\"gender\"\tTEXT,\n",
    "\t\"address\"\tTEXT NOT NULL,\n",
    "\t\"status\"\tBOOLEAN NOT NULL,\n",
    "\t\"activation_date\"\tTEXT NOT NULL,\n",
    "\tPRIMARY KEY(\"id\" AUTOINCREMENT)\n",
    ");\n",
    "'''"
   ]
  },
  {
   "cell_type": "code",
   "execution_count": 4,
   "metadata": {},
   "outputs": [],
   "source": [
    "# PARSERS\n",
    "\n",
    "parse_phone = lambda x: 'pendiente' if None else '+51' + str(x)\n",
    "parse_email = lambda x: 'pendiente' if None else x\n",
    "parse_address = lambda x: '+51000000000' if None else x\n",
    "parse_activate_date = lambda x: '1970-01-01' if None else x\n",
    "\n",
    "CONVERTERS = {\n",
    "  'phone': parse_phone,\n",
    "  'email': parse_email,\n",
    "  'address': parse_address,\n",
    "  'activate_date':parse_activate_date\n",
    "}"
   ]
  },
  {
   "cell_type": "code",
   "execution_count": 5,
   "metadata": {},
   "outputs": [],
   "source": [
    "engine = create_engine('sqlite:///data/test.db', echo=True)"
   ]
  },
  {
   "cell_type": "code",
   "execution_count": 14,
   "metadata": {},
   "outputs": [
    {
     "name": "stdout",
     "output_type": "stream",
     "text": [
      "2022-03-24 10:29:47,167 INFO sqlalchemy.engine.Engine \n",
      "CREATE TABLE \"clients\" (\n",
      "\t\"id\"\tINTEGER NOT NULL UNIQUE,\n",
      "\t\"first_name\"\tTEXT NOT NULL,\n",
      "\t\"last_name\"\tTEXT NOT NULL,\n",
      "\t\"email\"\tTEXT NOT NULL,\n",
      "\t\"phone\"\tTEXT NOT NULL,\n",
      "\t\"date_of_birth\"\tTEXT NOT NULL,\n",
      "\t\"gender\"\tTEXT,\n",
      "\t\"address\"\tTEXT NOT NULL,\n",
      "\t\"status\"\tBOOLEAN NOT NULL,\n",
      "\t\"activation_date\"\tTEXT NOT NULL,\n",
      "\tPRIMARY KEY(\"id\" AUTOINCREMENT)\n",
      ");\n",
      "\n",
      "2022-03-24 10:29:47,167 INFO sqlalchemy.engine.Engine [generated in 0.00084s] ()\n",
      "2022-03-24 10:29:47,175 INFO sqlalchemy.engine.Engine COMMIT\n"
     ]
    }
   ],
   "source": [
    "with engine.connect() as conn:\n",
    "  conn.execute(text(Q_CLIENTS))"
   ]
  },
  {
   "cell_type": "code",
   "execution_count": 15,
   "metadata": {},
   "outputs": [
    {
     "name": "stdout",
     "output_type": "stream",
     "text": [
      "2022-03-24 10:32:20,836 INFO sqlalchemy.engine.Engine \n",
      "CREATE TABLE \"cards\" (\n",
      "\t\"id\"\tINTEGER NOT NULL UNIQUE,\n",
      "\t\"client_id\"\tINTEGER NOT NULL,\n",
      "\t\"card_number\"\tTEXT NOT NULL,\n",
      "\t\"card_type\"\tTEXT NOT NULL,\n",
      "\t\"issue_date\"\tTEXT NOT NULL,\n",
      "\t\"expiration_date\"\tTEXT NOT NULL,\n",
      "\tPRIMARY KEY(\"id\" AUTOINCREMENT),\n",
      "\tCONSTRAINT \"clients_pk\" FOREIGN KEY(\"client_id\") REFERENCES \"clients\"(\"id\")\n",
      ");\n",
      "\n",
      "2022-03-24 10:32:20,837 INFO sqlalchemy.engine.Engine [generated in 0.00095s] ()\n",
      "2022-03-24 10:32:20,844 INFO sqlalchemy.engine.Engine COMMIT\n"
     ]
    }
   ],
   "source": [
    "with engine.connect() as conn:\n",
    "  conn.execute(text(Q_CARDS))"
   ]
  },
  {
   "cell_type": "code",
   "execution_count": 6,
   "metadata": {},
   "outputs": [
    {
     "name": "stdout",
     "output_type": "stream",
     "text": [
      "<class 'pandas.core.frame.DataFrame'>\n",
      "RangeIndex: 1000 entries, 0 to 999\n",
      "Data columns (total 10 columns):\n",
      " #   Column           Non-Null Count  Dtype \n",
      "---  ------           --------------  ----- \n",
      " 0   id               1000 non-null   int64 \n",
      " 1   first_name       1000 non-null   object\n",
      " 2   last_name        1000 non-null   object\n",
      " 3   email            1000 non-null   object\n",
      " 4   phone            1000 non-null   object\n",
      " 5   date_of_birth    1000 non-null   object\n",
      " 6   gender           1000 non-null   object\n",
      " 7   address          1000 non-null   object\n",
      " 8   status           1000 non-null   bool  \n",
      " 9   activation_date  983 non-null    object\n",
      "dtypes: bool(1), int64(1), object(8)\n",
      "memory usage: 71.4+ KB\n"
     ]
    }
   ],
   "source": [
    "df_clients = pd.read_csv('.\\\\data\\\\clients.zip',\n",
    "compression='zip',\n",
    "converters = CONVERTERS\n",
    ")\n",
    "df_clients.info()"
   ]
  },
  {
   "cell_type": "code",
   "execution_count": 9,
   "metadata": {},
   "outputs": [
    {
     "ename": "TypeError",
     "evalue": "_LocationIndexer.__call__() got an unexpected keyword argument 'id'",
     "output_type": "error",
     "traceback": [
      "\u001b[1;31m---------------------------------------------------------------------------\u001b[0m",
      "\u001b[1;31mTypeError\u001b[0m                                 Traceback (most recent call last)",
      "\u001b[1;32mc:\\Users\\paxonian\\Desktop\\python-ibk\\final_exercise.ipynb Cell 9'\u001b[0m in \u001b[0;36m<cell line: 1>\u001b[1;34m()\u001b[0m\n\u001b[1;32m----> <a href='vscode-notebook-cell:/c%3A/Users/paxonian/Desktop/python-ibk/final_exercise.ipynb#ch0000009?line=0'>1</a>\u001b[0m df_clients\u001b[39m.\u001b[39;49miloc(\u001b[39mid\u001b[39;49m\u001b[39m=\u001b[39;49m\u001b[39m9\u001b[39;49m)\n",
      "\u001b[1;31mTypeError\u001b[0m: _LocationIndexer.__call__() got an unexpected keyword argument 'id'"
     ]
    }
   ],
   "source": [
    "df_clients.iloc(id=9)"
   ]
  },
  {
   "cell_type": "code",
   "execution_count": null,
   "metadata": {},
   "outputs": [],
   "source": []
  }
 ],
 "metadata": {
  "interpreter": {
   "hash": "efd962336dd54454d7a208cae467b5158154cffc312a7f08d9fd755854b50aaa"
  },
  "kernelspec": {
   "display_name": "Python 3.10.1 ('.venv': venv)",
   "language": "python",
   "name": "python3"
  },
  "language_info": {
   "codemirror_mode": {
    "name": "ipython",
    "version": 3
   },
   "file_extension": ".py",
   "mimetype": "text/x-python",
   "name": "python",
   "nbconvert_exporter": "python",
   "pygments_lexer": "ipython3",
   "version": "3.10.1"
  },
  "orig_nbformat": 4
 },
 "nbformat": 4,
 "nbformat_minor": 2
}
